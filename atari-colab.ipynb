{
  "cells": [
    {
      "cell_type": "markdown",
      "metadata": {
        "id": "view-in-github",
        "colab_type": "text"
      },
      "source": [
        "<a href=\"https://colab.research.google.com/github/EmaSuriano/pytorch-demo/blob/main/atari-colab.ipynb\" target=\"_parent\"><img src=\"https://colab.research.google.com/assets/colab-badge.svg\" alt=\"Open In Colab\"/></a>"
      ]
    },
    {
      "cell_type": "markdown",
      "metadata": {
        "id": "WrxRn2N8IBu3"
      },
      "source": [
        "## DeepQN Tutorial\n",
        "\n",
        "Based on [Reinforcement Learning (DQN) Tutorial](https://pytorch.org/tutorials/intermediate/reinforcement_q_learning.html)\n"
      ]
    },
    {
      "cell_type": "markdown",
      "source": [
        "## Dependencies"
      ],
      "metadata": {
        "id": "3HAz00fBQHBW"
      }
    },
    {
      "cell_type": "code",
      "execution_count": 3,
      "metadata": {
        "id": "Mt10h8lYIBu4",
        "outputId": "7151d805-6eec-4f0d-cb41-fac2e2d76db4",
        "colab": {
          "base_uri": "https://localhost:8080/"
        }
      },
      "outputs": [
        {
          "output_type": "stream",
          "name": "stdout",
          "text": [
            "Torch is properly installed!\n"
          ]
        }
      ],
      "source": [
        "import torch\n",
        "\n",
        "# https://pytorch.org/get-started/locally/\n",
        "print(\"Torch is properly installed!\")"
      ]
    },
    {
      "cell_type": "code",
      "execution_count": 4,
      "metadata": {
        "id": "-7mUudnUIBu5",
        "outputId": "c9f9ad7a-0f93-4177-a777-94cce37a5ef6",
        "colab": {
          "base_uri": "https://localhost:8080/"
        }
      },
      "outputs": [
        {
          "output_type": "stream",
          "name": "stdout",
          "text": [
            "Requirement already satisfied: matplotlib in /usr/local/lib/python3.10/dist-packages (3.8.0)\n",
            "Requirement already satisfied: opencv-python in /usr/local/lib/python3.10/dist-packages (4.10.0.84)\n",
            "Requirement already satisfied: ale-py in /usr/local/lib/python3.10/dist-packages (0.10.1)\n",
            "Requirement already satisfied: gymnasium[atari] in /usr/local/lib/python3.10/dist-packages (1.0.0)\n",
            "Requirement already satisfied: imageio[ffmpeg] in /usr/local/lib/python3.10/dist-packages (2.4.1)\n",
            "Requirement already satisfied: numpy>=1.21.0 in /usr/local/lib/python3.10/dist-packages (from gymnasium[atari]) (1.26.4)\n",
            "Requirement already satisfied: cloudpickle>=1.2.0 in /usr/local/lib/python3.10/dist-packages (from gymnasium[atari]) (3.1.0)\n",
            "Requirement already satisfied: typing-extensions>=4.3.0 in /usr/local/lib/python3.10/dist-packages (from gymnasium[atari]) (4.12.2)\n",
            "Requirement already satisfied: farama-notifications>=0.0.1 in /usr/local/lib/python3.10/dist-packages (from gymnasium[atari]) (0.0.4)\n",
            "Requirement already satisfied: contourpy>=1.0.1 in /usr/local/lib/python3.10/dist-packages (from matplotlib) (1.3.1)\n",
            "Requirement already satisfied: cycler>=0.10 in /usr/local/lib/python3.10/dist-packages (from matplotlib) (0.12.1)\n",
            "Requirement already satisfied: fonttools>=4.22.0 in /usr/local/lib/python3.10/dist-packages (from matplotlib) (4.55.3)\n",
            "Requirement already satisfied: kiwisolver>=1.0.1 in /usr/local/lib/python3.10/dist-packages (from matplotlib) (1.4.7)\n",
            "Requirement already satisfied: packaging>=20.0 in /usr/local/lib/python3.10/dist-packages (from matplotlib) (24.2)\n",
            "Requirement already satisfied: pillow>=6.2.0 in /usr/local/lib/python3.10/dist-packages (from matplotlib) (11.0.0)\n",
            "Requirement already satisfied: pyparsing>=2.3.1 in /usr/local/lib/python3.10/dist-packages (from matplotlib) (3.2.0)\n",
            "Requirement already satisfied: python-dateutil>=2.7 in /usr/local/lib/python3.10/dist-packages (from matplotlib) (2.8.2)\n",
            "\u001b[33mWARNING: imageio 2.4.1 does not provide the extra 'ffmpeg'\u001b[0m\u001b[33m\n",
            "\u001b[0mRequirement already satisfied: six>=1.5 in /usr/local/lib/python3.10/dist-packages (from python-dateutil>=2.7->matplotlib) (1.17.0)\n"
          ]
        }
      ],
      "source": [
        "%pip install gymnasium[atari] matplotlib opencv-python imageio[ffmpeg] ale-py"
      ]
    },
    {
      "cell_type": "markdown",
      "source": [
        "## Imports"
      ],
      "metadata": {
        "id": "uE8pYoY6WnSK"
      }
    },
    {
      "cell_type": "code",
      "source": [
        "import gymnasium as gym\n",
        "import math\n",
        "import random\n",
        "import matplotlib\n",
        "import matplotlib.pyplot as plt\n",
        "from collections import namedtuple, deque\n",
        "from itertools import count\n",
        "import ale_py\n",
        "\n",
        "import torch\n",
        "import torch.nn as nn\n",
        "import torch.optim as optim\n",
        "import torch.nn.functional as F\n",
        "\n",
        "gym.register_envs(ale_py)\n",
        "\n",
        "# Set general env ID to re-use it\n",
        "# ENV_ID = \"SpaceInvadersNoFrameskip-v4\"\n",
        "ENV_ID = \"ALE/SpaceInvaders-v5\"\n",
        "\n",
        "# set up matplotlib\n",
        "is_ipython = \"inline\" in matplotlib.get_backend()\n",
        "if is_ipython:\n",
        "    from IPython import display\n",
        "\n",
        "plt.ion()"
      ],
      "metadata": {
        "colab": {
          "base_uri": "https://localhost:8080/"
        },
        "id": "HLjZOcFLWr_6",
        "outputId": "7e2117b5-a90f-46ee-f184-d604f155b9ab"
      },
      "execution_count": 5,
      "outputs": [
        {
          "output_type": "execute_result",
          "data": {
            "text/plain": [
              "<contextlib.ExitStack at 0x7bf75fe315d0>"
            ]
          },
          "metadata": {},
          "execution_count": 5
        }
      ]
    },
    {
      "cell_type": "code",
      "source": [
        "# if GPU is to be used\n",
        "device = torch.device(\n",
        "    \"cuda\"\n",
        "    if torch.cuda.is_available()\n",
        "    else \"mps\" if torch.backends.mps.is_available() else \"cpu\"\n",
        ")\n",
        "\n",
        "device"
      ],
      "metadata": {
        "colab": {
          "base_uri": "https://localhost:8080/"
        },
        "id": "EeZC9_y8WwTw",
        "outputId": "f0508562-3bce-4ff5-ec56-9570c2442804"
      },
      "execution_count": 6,
      "outputs": [
        {
          "output_type": "execute_result",
          "data": {
            "text/plain": [
              "device(type='cuda')"
            ]
          },
          "metadata": {},
          "execution_count": 6
        }
      ]
    },
    {
      "cell_type": "markdown",
      "source": [
        "## Atari Wrappers"
      ],
      "metadata": {
        "id": "BBm15qt-PiWf"
      }
    },
    {
      "cell_type": "code",
      "source": [
        "\"\"\"Implementation of Atari 2600 Preprocessing following the guidelines of Machado et al., 2018.\"\"\"\n",
        "import numpy as np\n",
        "\n",
        "import gymnasium as gym\n",
        "from gymnasium.spaces import Box\n",
        "# from gymnasium.utils.step_api_compatibility import step_api_compatibility\n",
        "\n",
        "try:\n",
        "    import cv2\n",
        "except ImportError:\n",
        "    cv2 = None\n",
        "\n",
        "\n",
        "class AtariPreprocessing(gym.Wrapper):\n",
        "    \"\"\"Atari 2600 preprocessing wrapper.\n",
        "\n",
        "    This class follows the guidelines in Machado et al. (2018),\n",
        "    \"Revisiting the Arcade Learning Environment: Evaluation Protocols and Open Problems for General Agents\".\n",
        "\n",
        "    Specifically, the following preprocess stages applies to the atari environment:\n",
        "    - Noop Reset: Obtains the initial state by taking a random number of no-ops on reset, default max 30 no-ops.\n",
        "    - Frame skipping: The number of frames skipped between steps, 4 by default\n",
        "    - Max-pooling: Pools over the most recent two observations from the frame skips\n",
        "    - Termination signal when a life is lost: When the agent losses a life during the environment, then the environment is terminated.\n",
        "        Turned off by default. Not recommended by Machado et al. (2018).\n",
        "    - Resize to a square image: Resizes the atari environment original observation shape from 210x180 to 84x84 by default\n",
        "    - Grayscale observation: If the observation is colour or greyscale, by default, greyscale.\n",
        "    - Scale observation: If to scale the observation between [0, 1) or [0, 255), by default, not scaled.\n",
        "    \"\"\"\n",
        "\n",
        "    def __init__(\n",
        "        self,\n",
        "        env: gym.Env,\n",
        "        noop_max: int = 30,\n",
        "        frame_skip: int = 4,\n",
        "        screen_size: int = 84,\n",
        "        terminal_on_life_loss: bool = False,\n",
        "        grayscale_obs: bool = True,\n",
        "        grayscale_newaxis: bool = False,\n",
        "        scale_obs: bool = False\n",
        "    ):\n",
        "        \"\"\"Wrapper for Atari 2600 preprocessing.\n",
        "\n",
        "        Args:\n",
        "            env (Env): The environment to apply the preprocessing\n",
        "            noop_max (int): For No-op reset, the max number no-ops actions are taken at reset, to turn off, set to 0.\n",
        "            frame_skip (int): The number of frames between new observation the agents observations effecting the frequency at which the agent experiences the game.\n",
        "            screen_size (int): resize Atari frame\n",
        "            terminal_on_life_loss (bool): `if True`, then :meth:`step()` returns `terminated=True` whenever a\n",
        "                life is lost.\n",
        "            grayscale_obs (bool): if True, then gray scale observation is returned, otherwise, RGB observation\n",
        "                is returned.\n",
        "            grayscale_newaxis (bool): `if True and grayscale_obs=True`, then a channel axis is added to\n",
        "                grayscale observations to make them 3-dimensional.\n",
        "            scale_obs (bool): if True, then observation normalized in range [0,1) is returned. It also limits memory\n",
        "                optimization benefits of FrameStack Wrapper.\n",
        "\n",
        "        Raises:\n",
        "            DependencyNotInstalled: opencv-python package not installed\n",
        "            ValueError: Disable frame-skipping in the original env\n",
        "        \"\"\"\n",
        "        super().__init__(env)\n",
        "        if cv2 is None:\n",
        "            raise gym.error.DependencyNotInstalled(\n",
        "                \"opencv-python package not installed, run `pip install gym[other]` to get dependencies for atari\"\n",
        "            )\n",
        "        assert frame_skip > 0\n",
        "        assert screen_size > 0\n",
        "        assert noop_max >= 0\n",
        "        if frame_skip > 1:\n",
        "            if (\n",
        "                \"NoFrameskip\" not in env.spec.id\n",
        "                and getattr(env.unwrapped, \"_frameskip\", None) != 1\n",
        "            ):\n",
        "                raise ValueError(\n",
        "                    \"Disable frame-skipping in the original env. Otherwise, more than one \"\n",
        "                    \"frame-skip will happen as through this wrapper\"\n",
        "                )\n",
        "        self.noop_max = noop_max\n",
        "        assert env.unwrapped.get_action_meanings()[0] == \"NOOP\"\n",
        "\n",
        "        self.frame_skip = frame_skip\n",
        "        self.screen_size = screen_size\n",
        "        self.terminal_on_life_loss = terminal_on_life_loss\n",
        "        self.grayscale_obs = grayscale_obs\n",
        "        self.grayscale_newaxis = grayscale_newaxis\n",
        "        self.scale_obs = scale_obs\n",
        "\n",
        "        # buffer of most recent two observations for max pooling\n",
        "        assert isinstance(env.observation_space, Box)\n",
        "        if grayscale_obs:\n",
        "            self.obs_buffer = [\n",
        "                np.empty(env.observation_space.shape[:2], dtype=np.uint8),\n",
        "                np.empty(env.observation_space.shape[:2], dtype=np.uint8),\n",
        "            ]\n",
        "        else:\n",
        "            self.obs_buffer = [\n",
        "                np.empty(env.observation_space.shape, dtype=np.uint8),\n",
        "                np.empty(env.observation_space.shape, dtype=np.uint8),\n",
        "            ]\n",
        "\n",
        "        self.ale = env.unwrapped.ale\n",
        "        self.lives = 0\n",
        "        self.game_over = False\n",
        "\n",
        "        _low, _high, _obs_dtype = (\n",
        "            (0, 255, np.uint8) if not scale_obs else (0, 1, np.float32)\n",
        "        )\n",
        "        _shape = (screen_size, screen_size, 1 if grayscale_obs else 3)\n",
        "        if grayscale_obs and not grayscale_newaxis:\n",
        "            _shape = _shape[:-1]  # Remove channel axis\n",
        "        self.observation_space = Box(\n",
        "            low=_low, high=_high, shape=_shape, dtype=_obs_dtype\n",
        "        )\n",
        "\n",
        "    def step(self, action):\n",
        "        \"\"\"Applies the preprocessing for an :meth:`env.step`.\"\"\"\n",
        "        total_reward, terminated, truncated, info = 0.0, False, False, {}\n",
        "\n",
        "        for t in range(self.frame_skip):\n",
        "            # _, reward, terminated, truncated, info = step_api_compatibility(\n",
        "            #     self.env.step(action), True\n",
        "            # )\n",
        "            _, reward, terminated, truncated, info = self.env.step(action)\n",
        "\n",
        "            total_reward += reward\n",
        "            self.game_over = terminated\n",
        "\n",
        "            if self.terminal_on_life_loss:\n",
        "                new_lives = self.ale.lives()\n",
        "                terminated = terminated or new_lives < self.lives\n",
        "                self.game_over = terminated\n",
        "                self.lives = new_lives\n",
        "\n",
        "            if terminated or truncated:\n",
        "                break\n",
        "            if t == self.frame_skip - 2:\n",
        "                if self.grayscale_obs:\n",
        "                    self.ale.getScreenGrayscale(self.obs_buffer[1])\n",
        "                else:\n",
        "                    self.ale.getScreenRGB(self.obs_buffer[1])\n",
        "            elif t == self.frame_skip - 1:\n",
        "                if self.grayscale_obs:\n",
        "                    self.ale.getScreenGrayscale(self.obs_buffer[0])\n",
        "                else:\n",
        "                    self.ale.getScreenRGB(self.obs_buffer[0])\n",
        "\n",
        "        return self._get_obs(), total_reward, terminated, truncated, info\n",
        "\n",
        "    def reset(self, **kwargs):\n",
        "        \"\"\"Resets the environment using preprocessing.\"\"\"\n",
        "        # NoopReset\n",
        "        if kwargs.get(\"return_info\", False):\n",
        "            _, reset_info = self.env.reset(**kwargs)\n",
        "        else:\n",
        "            _ = self.env.reset(**kwargs)\n",
        "            reset_info = {}\n",
        "\n",
        "        noops = (\n",
        "            self.env.unwrapped.np_random.integers(1, self.noop_max + 1)\n",
        "            if self.noop_max > 0\n",
        "            else 0\n",
        "        )\n",
        "        for _ in range(noops):\n",
        "            # _, _, terminated, truncated, step_info = step_api_compatibility(\n",
        "            #     self.env.step(0), True\n",
        "            # )\n",
        "            _, _, terminated, truncated, step_info = self.env.step(0)\n",
        "            reset_info.update(step_info)\n",
        "            if terminated or truncated:\n",
        "                if kwargs.get(\"return_info\", False):\n",
        "                    _, reset_info = self.env.reset(**kwargs)\n",
        "                else:\n",
        "                    _ = self.env.reset(**kwargs)\n",
        "                    reset_info = {}\n",
        "\n",
        "        self.lives = self.ale.lives()\n",
        "        if self.grayscale_obs:\n",
        "            self.ale.getScreenGrayscale(self.obs_buffer[0])\n",
        "        else:\n",
        "            self.ale.getScreenRGB(self.obs_buffer[0])\n",
        "        self.obs_buffer[1].fill(0)\n",
        "\n",
        "        if kwargs.get(\"return_info\", False):\n",
        "            return self._get_obs(), reset_info\n",
        "        else:\n",
        "            return self._get_obs()\n",
        "\n",
        "    def _get_obs(self):\n",
        "        if self.frame_skip > 1:  # more efficient in-place pooling\n",
        "            np.maximum(self.obs_buffer[0], self.obs_buffer[1], out=self.obs_buffer[0])\n",
        "        assert cv2 is not None\n",
        "        obs = cv2.resize(\n",
        "            self.obs_buffer[0],\n",
        "            (self.screen_size, self.screen_size),\n",
        "            interpolation=cv2.INTER_AREA,\n",
        "        )\n",
        "\n",
        "        if self.scale_obs:\n",
        "            obs = np.asarray(obs, dtype=np.float32) / 255.0\n",
        "        else:\n",
        "            obs = np.asarray(obs, dtype=np.uint8)\n",
        "\n",
        "        if self.grayscale_obs and self.grayscale_newaxis:\n",
        "            obs = np.expand_dims(obs, axis=-1)  # Add a channel axis\n",
        "        return obs\n"
      ],
      "metadata": {
        "id": "36q0K6-PrFB6"
      },
      "execution_count": 7,
      "outputs": []
    },
    {
      "cell_type": "code",
      "source": [
        "from gymnasium.wrappers import ClipReward, RecordVideo\n",
        "\n",
        "def create_env(env_name: str, video_per_episode = 50):\n",
        "    env = gym.make(env_name, frameskip=1, render_mode='rgb_array')\n",
        "\n",
        "    trigger = lambda t: t % video_per_episode == 0\n",
        "\n",
        "    env = RecordVideo(env, video_folder=\"./videos\", episode_trigger=trigger, disable_logger=True)\n",
        "\n",
        "    env = AtariPreprocessing(\n",
        "      env, noop_max=0,\n",
        "      frame_skip=4,\n",
        "      terminal_on_life_loss=False,\n",
        "      screen_size=84\n",
        "    )\n",
        "\n",
        "    env = ClipReward(env, 0, 1)\n",
        "    # env = NumpyToTorch(env)\n",
        "\n",
        "    return env"
      ],
      "metadata": {
        "id": "tJZtaY65wE9j"
      },
      "execution_count": 8,
      "outputs": []
    },
    {
      "cell_type": "markdown",
      "metadata": {
        "id": "7d6J4ZdEIBu6"
      },
      "source": [
        "## Test Env + video generation"
      ]
    },
    {
      "cell_type": "code",
      "source": [
        "def test_env(env_test, take_action, num_episodes=5):\n",
        "    scores = []\n",
        "\n",
        "    for i in range(num_episodes):\n",
        "        observation = env_test.reset(seed=42)\n",
        "        done = False\n",
        "        score = 0\n",
        "\n",
        "        while not done:\n",
        "            # get next action\n",
        "            action = take_action(observation)\n",
        "\n",
        "            # take a step in the env\n",
        "            observation, reward, terminated, truncated, info = env_test.step(action)\n",
        "\n",
        "            # Collect rewards\n",
        "            score += reward\n",
        "\n",
        "            # set if done\n",
        "            done = terminated or truncated\n",
        "\n",
        "        print(f\"Episode {i+1}: {score}\")\n",
        "        scores.append(score)\n",
        "\n",
        "    print(f\"Episode Avg: {np.mean(scores)}\")\n",
        "    env_test.close()\n",
        "\n",
        "env = create_env(ENV_ID)\n",
        "\n",
        "test_env(env, lambda obs: env.action_space.sample())"
      ],
      "metadata": {
        "colab": {
          "base_uri": "https://localhost:8080/"
        },
        "id": "BwWZ5t6RT4I4",
        "outputId": "9f45f0f2-ab3b-4ae7-f88a-81473479e775"
      },
      "execution_count": 9,
      "outputs": [
        {
          "output_type": "stream",
          "name": "stdout",
          "text": [
            "Episode 1: 8.0\n",
            "Episode 2: 3.0\n",
            "Episode 3: 10.0\n",
            "Episode 4: 5.0\n",
            "Episode 5: 5.0\n",
            "Episode Avg: 6.2\n"
          ]
        }
      ]
    },
    {
      "cell_type": "markdown",
      "metadata": {
        "id": "dk4BgYISIBu6"
      },
      "source": [
        "## DQN"
      ]
    },
    {
      "cell_type": "code",
      "execution_count": 10,
      "metadata": {
        "id": "7_A2XvxuIBu6"
      },
      "outputs": [],
      "source": [
        "class DQN(nn.Module):\n",
        "    def __init__(self, in_channels, n_actions):\n",
        "        super().__init__()\n",
        "        self.conv1 = nn.Conv2d(in_channels, 32, kernel_size=8, stride=4)\n",
        "        self.conv2 = nn.Conv2d(32, 64, kernel_size=4, stride=2)\n",
        "        self.conv3 = nn.Conv2d(64, 64, kernel_size=3, stride=1)\n",
        "        self.fc1 = nn.Linear(64 * 7 * 7, 512)\n",
        "        self.fc2 = nn.Linear(512, n_actions)\n",
        "\n",
        "    def forward(self, x):\n",
        "        \"\"\"\n",
        "        Input shape: (bs,c,h,w) #(bs,4,84,84)\n",
        "        Output shape: (bs,n_actions)\n",
        "        \"\"\"\n",
        "        x = F.relu(self.conv1(x))\n",
        "        x = F.relu(self.conv2(x))\n",
        "        x = F.relu(self.conv3(x))\n",
        "        x = torch.flatten(x, 1)\n",
        "        x = F.relu(self.fc1(x))\n",
        "        return self.fc2(x)"
      ]
    },
    {
      "cell_type": "markdown",
      "metadata": {
        "id": "SuzsaLILIBu6"
      },
      "source": [
        "## Replay Memory"
      ]
    },
    {
      "cell_type": "code",
      "execution_count": 11,
      "metadata": {
        "id": "ul_Thz31IBu7"
      },
      "outputs": [],
      "source": [
        "Transition = namedtuple(\"Transition\", (\"state\", \"action\", \"next_state\", \"reward\"))\n",
        "\n",
        "class ReplayMemory(object):\n",
        "\n",
        "    def __init__(self, capacity):\n",
        "        self.memory = deque([], maxlen=capacity)\n",
        "\n",
        "    def push(self, *args):\n",
        "        \"\"\"Save a transition\"\"\"\n",
        "        self.memory.append(Transition(*args))\n",
        "\n",
        "    def sample(self, batch_size):\n",
        "        return random.sample(self.memory, batch_size)\n",
        "\n",
        "    def __len__(self):\n",
        "        return len(self.memory)"
      ]
    },
    {
      "cell_type": "markdown",
      "source": [
        "## Hyper-parameters"
      ],
      "metadata": {
        "id": "B8HD11xu415G"
      }
    },
    {
      "cell_type": "code",
      "execution_count": 44,
      "metadata": {
        "id": "mkFw1Bz7IBu7"
      },
      "outputs": [],
      "source": [
        "# Replay buffer batch size\n",
        "BATCH_SIZE = 128  # Standard size for stable training; adjust if needed.\n",
        "\n",
        "# Discount factor for future rewards\n",
        "GAMMA = 0.99  # Balances immediate vs. long-term rewards; 0.99 is standard.\n",
        "\n",
        "# Epsilon-greedy strategy\n",
        "EPS_START = 0.9  # Start with 90% exploration.\n",
        "EPS_END = 0.05   # End with 5% exploration.\n",
        "EPS_DECAY = 100  # Slower decay for better exploration in complex environments.\n",
        "\n",
        "# Target network soft update rate\n",
        "TAU = 0.005  # Conservative value to ensure target network stability.\n",
        "\n",
        "# Learning rate for AdamW optimizer\n",
        "LR = 1e-3  # Standard for AdamW; can use a scheduler for dynamic adjustment.\n",
        "\n",
        "# Total episodes for training\n",
        "NUM_EPISODES = 1000  # Increased for complex environments.\n",
        "\n",
        "# Video recording for debugging and evaluation\n",
        "VIDEO_PER_EPISODE = 50  # Save evaluation videos every 50 episodes."
      ]
    },
    {
      "cell_type": "markdown",
      "metadata": {
        "id": "EtQlI3O0IBu7"
      },
      "source": [
        "## Epsilon Greedy"
      ]
    },
    {
      "cell_type": "code",
      "execution_count": 13,
      "metadata": {
        "id": "VPUtmHeUIBu7"
      },
      "outputs": [],
      "source": [
        "def select_action(state: torch.Tensor, epsilon: float) -> torch.Tensor:\n",
        "    # Epsilon-greedy selection: either choose the best action or random action\n",
        "    if random.random() > epsilon:\n",
        "        with torch.no_grad():\n",
        "            return policy_net(state).max(1)[1].view(1, 1)  # Select best action\n",
        "    else:\n",
        "        return torch.tensor([[env.action_space.sample()]], device=device)  # Random action"
      ]
    },
    {
      "cell_type": "markdown",
      "metadata": {
        "id": "-d8naoGnIBu7"
      },
      "source": [
        "## Plot Duration"
      ]
    },
    {
      "cell_type": "code",
      "execution_count": 38,
      "metadata": {
        "id": "XMvV-nO7IBu7"
      },
      "outputs": [],
      "source": [
        "def plot_results(values, moving_avg_window=20, show_result=False):\n",
        "    if(len(values) <= 1):\n",
        "      return\n",
        "\n",
        "    plt.figure(1)\n",
        "\n",
        "    if show_result:\n",
        "        plt.title(\"Result\")\n",
        "    else:\n",
        "        plt.clf()\n",
        "        plt.title(\"Training...\")\n",
        "\n",
        "    # Plot the original values (e.g., the scores or rewards per episode)\n",
        "    plt.plot(values, label=\"Episode Rewards\")\n",
        "\n",
        "    if(len(values) >= moving_avg_window):\n",
        "      # Calculate the moving average of the last `moving_avg_window` episodes\n",
        "      moving_avg = np.convolve(values, np.ones(moving_avg_window) / moving_avg_window, mode='valid')\n",
        "\n",
        "      # Plot the moving average line\n",
        "      plt.plot(np.arange(moving_avg_window - 1, len(values)), moving_avg, label=f\"Avg (last {moving_avg_window} episodes)\", color='red', linestyle='--')\n",
        "\n",
        "    plt.xlabel(\"Episode\")\n",
        "    plt.ylabel(\"Value\")\n",
        "    plt.legend()\n",
        "\n",
        "    # plt.pause(0.001)  # pause a bit so that plots are updated\n",
        "    if is_ipython:\n",
        "        display.display(plt.gcf())\n",
        "        if not show_result:\n",
        "            display.clear_output(wait=True)"
      ]
    },
    {
      "cell_type": "markdown",
      "metadata": {
        "id": "rpSJC3wwIBu7"
      },
      "source": [
        "## Optimize"
      ]
    },
    {
      "cell_type": "code",
      "execution_count": 15,
      "metadata": {
        "id": "0rQOPoViIBu7"
      },
      "outputs": [],
      "source": [
        "def optimize_model():\n",
        "    if len(memory) < BATCH_SIZE:\n",
        "        return\n",
        "    transitions = memory.sample(BATCH_SIZE)\n",
        "    # Transpose the batch (see https://stackoverflow.com/a/19343/3343043 for\n",
        "    # detailed explanation). This converts batch-array of Transitions\n",
        "    # to Transition of batch-arrays.\n",
        "    batch = Transition(*zip(*transitions))\n",
        "\n",
        "    # Compute a mask of non-final states and concatenate the batch elements\n",
        "    # (a final state would've been the one after which simulation ended)\n",
        "    non_final_mask = torch.tensor(\n",
        "        tuple(map(lambda s: s is not None, batch.next_state)),\n",
        "        device=device,\n",
        "        dtype=torch.bool,\n",
        "    )\n",
        "    non_final_next_states = torch.cat([s for s in batch.next_state if s is not None])\n",
        "    state_batch = torch.cat(batch.state)\n",
        "    action_batch = torch.cat(batch.action)\n",
        "    reward_batch = torch.cat(batch.reward)\n",
        "\n",
        "    # Compute Q(s_t, a) - the model computes Q(s_t), then we select the\n",
        "    # columns of actions taken. These are the actions which would've been taken\n",
        "    # for each batch state according to policy_net\n",
        "    state_action_values = policy_net(state_batch).gather(1, action_batch)\n",
        "\n",
        "    # Compute V(s_{t+1}) for all next states.\n",
        "    # Expected values of actions for non_final_next_states are computed based\n",
        "    # on the \"older\" target_net; selecting their best reward with max(1).values\n",
        "    # This is merged based on the mask, such that we'll have either the expected\n",
        "    # state value or 0 in case the state was final.\n",
        "    next_state_values = torch.zeros(BATCH_SIZE, device=device)\n",
        "    with torch.no_grad():\n",
        "        next_state_values[non_final_mask] = (\n",
        "            target_net(non_final_next_states).max(1).values\n",
        "        )\n",
        "    # Compute the expected Q values\n",
        "    expected_state_action_values = (next_state_values * GAMMA) + reward_batch\n",
        "\n",
        "    # Compute Huber loss\n",
        "    criterion = nn.SmoothL1Loss()\n",
        "    loss = criterion(state_action_values, expected_state_action_values.unsqueeze(1))\n",
        "\n",
        "    # Optimize the model\n",
        "    optimizer.zero_grad()\n",
        "    loss.backward()\n",
        "    # In-place gradient clipping\n",
        "    torch.nn.utils.clip_grad_value_(policy_net.parameters(), 100)\n",
        "    optimizer.step()"
      ]
    },
    {
      "cell_type": "markdown",
      "metadata": {
        "id": "3J_oNp5oIBu8"
      },
      "source": [
        "## Train loop"
      ]
    },
    {
      "cell_type": "code",
      "execution_count": 43,
      "metadata": {
        "id": "NdB8dZYvIBu8",
        "outputId": "5f6c0bef-e198-4868-cd8b-6d2ddf2d7325",
        "colab": {
          "base_uri": "https://localhost:8080/",
          "height": 666
        }
      },
      "outputs": [
        {
          "output_type": "error",
          "ename": "KeyboardInterrupt",
          "evalue": "",
          "traceback": [
            "\u001b[0;31m---------------------------------------------------------------------------\u001b[0m",
            "\u001b[0;31mKeyboardInterrupt\u001b[0m                         Traceback (most recent call last)",
            "\u001b[0;32m<ipython-input-43-9141dc98fa8e>\u001b[0m in \u001b[0;36m<cell line: 18>\u001b[0;34m()\u001b[0m\n\u001b[1;32m     57\u001b[0m \u001b[0;34m\u001b[0m\u001b[0m\n\u001b[1;32m     58\u001b[0m         \u001b[0;31m# Perform one step of the optimization (on the policy network)\u001b[0m\u001b[0;34m\u001b[0m\u001b[0;34m\u001b[0m\u001b[0m\n\u001b[0;32m---> 59\u001b[0;31m         \u001b[0moptimize_model\u001b[0m\u001b[0;34m(\u001b[0m\u001b[0;34m)\u001b[0m\u001b[0;34m\u001b[0m\u001b[0;34m\u001b[0m\u001b[0m\n\u001b[0m\u001b[1;32m     60\u001b[0m \u001b[0;34m\u001b[0m\u001b[0m\n\u001b[1;32m     61\u001b[0m         \u001b[0;31m# Soft update of the target network's weights\u001b[0m\u001b[0;34m\u001b[0m\u001b[0;34m\u001b[0m\u001b[0m\n",
            "\u001b[0;31mKeyboardInterrupt\u001b[0m: "
          ]
        },
        {
          "output_type": "display_data",
          "data": {
            "text/plain": [
              "<Figure size 640x480 with 1 Axes>"
            ],
            "image/png": "[encoded data removed]"
          },
          "metadata": {}
        }
      ],
      "source": [
        "env = create_env(ENV_ID, video_per_episode=VIDEO_PER_EPISODE)\n",
        "\n",
        "# Get number of actions from gym action space\n",
        "n_actions = env.action_space.n\n",
        "\n",
        "policy_net = DQN(in_channels=4, n_actions=n_actions).to(device)\n",
        "target_net = DQN(in_channels=4, n_actions=n_actions).to(device)\n",
        "\n",
        "target_net.load_state_dict(policy_net.state_dict())\n",
        "target_net.eval()\n",
        "\n",
        "optimizer = optim.AdamW(policy_net.parameters(), lr=LR, amsgrad=True)\n",
        "memory = ReplayMemory(50000)\n",
        "\n",
        "# keep track of score per episode\n",
        "episode_scores = []\n",
        "\n",
        "for i_episode in range(NUM_EPISODES):\n",
        "    # Initialize the environment and get its state\n",
        "    state = env.reset()\n",
        "\n",
        "    state = torch.from_numpy(state.astype(np.float32)).to(device)  # (84,84)\n",
        "    # stack four frames together, hoping to learn temporal info\n",
        "    state = torch.stack((state, state, state, state)).unsqueeze(0)  # (1,4,84,84)\n",
        "\n",
        "    done = False\n",
        "    score = 0\n",
        "\n",
        "    while not done:\n",
        "        epsilon = EPS_END + (EPS_START - EPS_END) * math.exp(-1 * i_episode / EPS_DECAY)\n",
        "\n",
        "        action = select_action(state, epsilon)\n",
        "        obs, reward, terminated, truncated, _ = env.step(action.item())\n",
        "        score += reward\n",
        "\n",
        "        reward = torch.tensor([reward], device=device)\n",
        "        done = terminated or truncated\n",
        "\n",
        "        # if terminated:\n",
        "        #     next_state = None\n",
        "        # else:\n",
        "        next_state = torch.from_numpy(obs.astype(np.float32)).to(device)  # (84,84)\n",
        "        next_state = torch.stack(\n",
        "          (\n",
        "            next_state,\n",
        "            state[0][0],\n",
        "            state[0][1],\n",
        "            state[0][2],\n",
        "          )\n",
        "        ).unsqueeze(0)\n",
        "\n",
        "        # Store the transition in memory\n",
        "        memory.push(state, action, next_state, reward)\n",
        "\n",
        "        # Move to the next state\n",
        "        state = next_state\n",
        "\n",
        "        # Perform one step of the optimization (on the policy network)\n",
        "        optimize_model()\n",
        "\n",
        "        # Soft update of the target network's weights\n",
        "        # θ′ ← τ θ + (1 −τ )θ′\n",
        "        target_net_state_dict = target_net.state_dict()\n",
        "        policy_net_state_dict = policy_net.state_dict()\n",
        "        # for key in policy_net_state_dict:\n",
        "        #     target_net_state_dict[key] = policy_net_state_dict[\n",
        "        #         key\n",
        "        #     ] * TAU + target_net_state_dict[key] * (1 - TAU)\n",
        "\n",
        "        for key in policy_net_state_dict:\n",
        "          target_net_state_dict[key] =  target_net_state_dict[key] * (1 - TAU) + policy_net_state_dict[key] * TAU\n",
        "\n",
        "        target_net.load_state_dict(target_net_state_dict)\n",
        "\n",
        "\n",
        "    print(f\"Episode {i_episode+1}: {score} {epsilon}\")\n",
        "    episode_scores.append(score)\n",
        "    plot_results(episode_scores)\n",
        "\n",
        "print(\"Complete\")\n",
        "plot_results(episode_scores, show_result=True)\n",
        "plt.ioff()\n",
        "plt.show()"
      ]
    },
    {
      "cell_type": "markdown",
      "metadata": {
        "id": "6i3wn1sFIBu8"
      },
      "source": [
        "## Test agent"
      ]
    },
    {
      "cell_type": "code",
      "execution_count": 117,
      "metadata": {
        "id": "e5VCDFY-IBu8",
        "outputId": "ac395abf-3e78-4582-9bc0-05ebb260ae05",
        "colab": {
          "base_uri": "https://localhost:8080/",
          "height": 619
        }
      },
      "outputs": [
        {
          "output_type": "stream",
          "name": "stderr",
          "text": [
            "WARNING:py.warnings:/usr/local/lib/python3.10/dist-packages/ipykernel/ipkernel.py:283: DeprecationWarning: `should_run_async` will not call `transform_cell` automatically in the future. Please pass the result to `transformed_cell` argument and any exception that happen during thetransform in `preprocessing_exc_tuple` in IPython 7.17 and above.\n",
            "  and should_run_async(code)\n",
            "\n"
          ]
        },
        {
          "output_type": "stream",
          "name": "stdout",
          "text": [
            "[[0. 0. 0. ... 0. 0. 0.]\n",
            " [0. 0. 0. ... 0. 0. 0.]\n",
            " [0. 0. 0. ... 0. 0. 0.]\n",
            " ...\n",
            " [0. 0. 0. ... 0. 0. 0.]\n",
            " [0. 0. 0. ... 0. 0. 0.]\n",
            " [0. 0. 0. ... 0. 0. 0.]]\n",
            "torch.Size([1, 84, 84])\n"
          ]
        },
        {
          "output_type": "error",
          "ename": "RuntimeError",
          "evalue": "Given groups=1, weight of size [32, 4, 8, 8], expected input[1, 1, 84, 84] to have 4 channels, but got 1 channels instead",
          "traceback": [
            "\u001b[0;31m---------------------------------------------------------------------------\u001b[0m",
            "\u001b[0;31mRuntimeError\u001b[0m                              Traceback (most recent call last)",
            "\u001b[0;32m<ipython-input-117-a3b456c7e45b>\u001b[0m in \u001b[0;36m<cell line: 10>\u001b[0;34m()\u001b[0m\n\u001b[1;32m     20\u001b[0m             ).unsqueeze(0)\n\u001b[1;32m     21\u001b[0m             \u001b[0mprint\u001b[0m\u001b[0;34m(\u001b[0m\u001b[0mobs\u001b[0m\u001b[0;34m.\u001b[0m\u001b[0mshape\u001b[0m\u001b[0;34m)\u001b[0m\u001b[0;34m\u001b[0m\u001b[0;34m\u001b[0m\u001b[0m\n\u001b[0;32m---> 22\u001b[0;31m             \u001b[0maction\u001b[0m \u001b[0;34m=\u001b[0m \u001b[0mpolicy_net\u001b[0m\u001b[0;34m(\u001b[0m\u001b[0mobs\u001b[0m\u001b[0;34m)\u001b[0m\u001b[0;34m.\u001b[0m\u001b[0mmax\u001b[0m\u001b[0;34m(\u001b[0m\u001b[0;36m1\u001b[0m\u001b[0;34m)\u001b[0m\u001b[0;34m.\u001b[0m\u001b[0mindices\u001b[0m\u001b[0;34m.\u001b[0m\u001b[0mview\u001b[0m\u001b[0;34m(\u001b[0m\u001b[0;36m1\u001b[0m\u001b[0;34m,\u001b[0m \u001b[0;36m1\u001b[0m\u001b[0;34m)\u001b[0m\u001b[0;34m\u001b[0m\u001b[0;34m\u001b[0m\u001b[0m\n\u001b[0m\u001b[1;32m     23\u001b[0m \u001b[0;34m\u001b[0m\u001b[0m\n\u001b[1;32m     24\u001b[0m         \u001b[0;31m# step (transition) through the environment with the action\u001b[0m\u001b[0;34m\u001b[0m\u001b[0;34m\u001b[0m\u001b[0m\n",
            "\u001b[0;32m/usr/local/lib/python3.10/dist-packages/torch/nn/modules/module.py\u001b[0m in \u001b[0;36m_wrapped_call_impl\u001b[0;34m(self, *args, **kwargs)\u001b[0m\n\u001b[1;32m   1734\u001b[0m             \u001b[0;32mreturn\u001b[0m \u001b[0mself\u001b[0m\u001b[0;34m.\u001b[0m\u001b[0m_compiled_call_impl\u001b[0m\u001b[0;34m(\u001b[0m\u001b[0;34m*\u001b[0m\u001b[0margs\u001b[0m\u001b[0;34m,\u001b[0m \u001b[0;34m**\u001b[0m\u001b[0mkwargs\u001b[0m\u001b[0;34m)\u001b[0m  \u001b[0;31m# type: ignore[misc]\u001b[0m\u001b[0;34m\u001b[0m\u001b[0;34m\u001b[0m\u001b[0m\n\u001b[1;32m   1735\u001b[0m         \u001b[0;32melse\u001b[0m\u001b[0;34m:\u001b[0m\u001b[0;34m\u001b[0m\u001b[0;34m\u001b[0m\u001b[0m\n\u001b[0;32m-> 1736\u001b[0;31m             \u001b[0;32mreturn\u001b[0m \u001b[0mself\u001b[0m\u001b[0;34m.\u001b[0m\u001b[0m_call_impl\u001b[0m\u001b[0;34m(\u001b[0m\u001b[0;34m*\u001b[0m\u001b[0margs\u001b[0m\u001b[0;34m,\u001b[0m \u001b[0;34m**\u001b[0m\u001b[0mkwargs\u001b[0m\u001b[0;34m)\u001b[0m\u001b[0;34m\u001b[0m\u001b[0;34m\u001b[0m\u001b[0m\n\u001b[0m\u001b[1;32m   1737\u001b[0m \u001b[0;34m\u001b[0m\u001b[0m\n\u001b[1;32m   1738\u001b[0m     \u001b[0;31m# torchrec tests the code consistency with the following code\u001b[0m\u001b[0;34m\u001b[0m\u001b[0;34m\u001b[0m\u001b[0m\n",
            "\u001b[0;32m/usr/local/lib/python3.10/dist-packages/torch/nn/modules/module.py\u001b[0m in \u001b[0;36m_call_impl\u001b[0;34m(self, *args, **kwargs)\u001b[0m\n\u001b[1;32m   1745\u001b[0m                 \u001b[0;32mor\u001b[0m \u001b[0m_global_backward_pre_hooks\u001b[0m \u001b[0;32mor\u001b[0m \u001b[0m_global_backward_hooks\u001b[0m\u001b[0;34m\u001b[0m\u001b[0;34m\u001b[0m\u001b[0m\n\u001b[1;32m   1746\u001b[0m                 or _global_forward_hooks or _global_forward_pre_hooks):\n\u001b[0;32m-> 1747\u001b[0;31m             \u001b[0;32mreturn\u001b[0m \u001b[0mforward_call\u001b[0m\u001b[0;34m(\u001b[0m\u001b[0;34m*\u001b[0m\u001b[0margs\u001b[0m\u001b[0;34m,\u001b[0m \u001b[0;34m**\u001b[0m\u001b[0mkwargs\u001b[0m\u001b[0;34m)\u001b[0m\u001b[0;34m\u001b[0m\u001b[0;34m\u001b[0m\u001b[0m\n\u001b[0m\u001b[1;32m   1748\u001b[0m \u001b[0;34m\u001b[0m\u001b[0m\n\u001b[1;32m   1749\u001b[0m         \u001b[0mresult\u001b[0m \u001b[0;34m=\u001b[0m \u001b[0;32mNone\u001b[0m\u001b[0;34m\u001b[0m\u001b[0;34m\u001b[0m\u001b[0m\n",
            "\u001b[0;32m<ipython-input-65-4725e7b78881>\u001b[0m in \u001b[0;36mforward\u001b[0;34m(self, x)\u001b[0m\n\u001b[1;32m     13\u001b[0m         \u001b[0mOutput\u001b[0m \u001b[0mshape\u001b[0m\u001b[0;34m:\u001b[0m \u001b[0;34m(\u001b[0m\u001b[0mbs\u001b[0m\u001b[0;34m,\u001b[0m\u001b[0mn_actions\u001b[0m\u001b[0;34m)\u001b[0m\u001b[0;34m\u001b[0m\u001b[0;34m\u001b[0m\u001b[0m\n\u001b[1;32m     14\u001b[0m         \"\"\"\n\u001b[0;32m---> 15\u001b[0;31m         \u001b[0mx\u001b[0m \u001b[0;34m=\u001b[0m \u001b[0mF\u001b[0m\u001b[0;34m.\u001b[0m\u001b[0mrelu\u001b[0m\u001b[0;34m(\u001b[0m\u001b[0mself\u001b[0m\u001b[0;34m.\u001b[0m\u001b[0mconv1\u001b[0m\u001b[0;34m(\u001b[0m\u001b[0mx\u001b[0m\u001b[0;34m)\u001b[0m\u001b[0;34m)\u001b[0m\u001b[0;34m\u001b[0m\u001b[0;34m\u001b[0m\u001b[0m\n\u001b[0m\u001b[1;32m     16\u001b[0m         \u001b[0mx\u001b[0m \u001b[0;34m=\u001b[0m \u001b[0mF\u001b[0m\u001b[0;34m.\u001b[0m\u001b[0mrelu\u001b[0m\u001b[0;34m(\u001b[0m\u001b[0mself\u001b[0m\u001b[0;34m.\u001b[0m\u001b[0mconv2\u001b[0m\u001b[0;34m(\u001b[0m\u001b[0mx\u001b[0m\u001b[0;34m)\u001b[0m\u001b[0;34m)\u001b[0m\u001b[0;34m\u001b[0m\u001b[0;34m\u001b[0m\u001b[0m\n\u001b[1;32m     17\u001b[0m         \u001b[0mx\u001b[0m \u001b[0;34m=\u001b[0m \u001b[0mF\u001b[0m\u001b[0;34m.\u001b[0m\u001b[0mrelu\u001b[0m\u001b[0;34m(\u001b[0m\u001b[0mself\u001b[0m\u001b[0;34m.\u001b[0m\u001b[0mconv3\u001b[0m\u001b[0;34m(\u001b[0m\u001b[0mx\u001b[0m\u001b[0;34m)\u001b[0m\u001b[0;34m)\u001b[0m\u001b[0;34m\u001b[0m\u001b[0;34m\u001b[0m\u001b[0m\n",
            "\u001b[0;32m/usr/local/lib/python3.10/dist-packages/torch/nn/modules/module.py\u001b[0m in \u001b[0;36m_wrapped_call_impl\u001b[0;34m(self, *args, **kwargs)\u001b[0m\n\u001b[1;32m   1734\u001b[0m             \u001b[0;32mreturn\u001b[0m \u001b[0mself\u001b[0m\u001b[0;34m.\u001b[0m\u001b[0m_compiled_call_impl\u001b[0m\u001b[0;34m(\u001b[0m\u001b[0;34m*\u001b[0m\u001b[0margs\u001b[0m\u001b[0;34m,\u001b[0m \u001b[0;34m**\u001b[0m\u001b[0mkwargs\u001b[0m\u001b[0;34m)\u001b[0m  \u001b[0;31m# type: ignore[misc]\u001b[0m\u001b[0;34m\u001b[0m\u001b[0;34m\u001b[0m\u001b[0m\n\u001b[1;32m   1735\u001b[0m         \u001b[0;32melse\u001b[0m\u001b[0;34m:\u001b[0m\u001b[0;34m\u001b[0m\u001b[0;34m\u001b[0m\u001b[0m\n\u001b[0;32m-> 1736\u001b[0;31m             \u001b[0;32mreturn\u001b[0m \u001b[0mself\u001b[0m\u001b[0;34m.\u001b[0m\u001b[0m_call_impl\u001b[0m\u001b[0;34m(\u001b[0m\u001b[0;34m*\u001b[0m\u001b[0margs\u001b[0m\u001b[0;34m,\u001b[0m \u001b[0;34m**\u001b[0m\u001b[0mkwargs\u001b[0m\u001b[0;34m)\u001b[0m\u001b[0;34m\u001b[0m\u001b[0;34m\u001b[0m\u001b[0m\n\u001b[0m\u001b[1;32m   1737\u001b[0m \u001b[0;34m\u001b[0m\u001b[0m\n\u001b[1;32m   1738\u001b[0m     \u001b[0;31m# torchrec tests the code consistency with the following code\u001b[0m\u001b[0;34m\u001b[0m\u001b[0;34m\u001b[0m\u001b[0m\n",
            "\u001b[0;32m/usr/local/lib/python3.10/dist-packages/torch/nn/modules/module.py\u001b[0m in \u001b[0;36m_call_impl\u001b[0;34m(self, *args, **kwargs)\u001b[0m\n\u001b[1;32m   1745\u001b[0m                 \u001b[0;32mor\u001b[0m \u001b[0m_global_backward_pre_hooks\u001b[0m \u001b[0;32mor\u001b[0m \u001b[0m_global_backward_hooks\u001b[0m\u001b[0;34m\u001b[0m\u001b[0;34m\u001b[0m\u001b[0m\n\u001b[1;32m   1746\u001b[0m                 or _global_forward_hooks or _global_forward_pre_hooks):\n\u001b[0;32m-> 1747\u001b[0;31m             \u001b[0;32mreturn\u001b[0m \u001b[0mforward_call\u001b[0m\u001b[0;34m(\u001b[0m\u001b[0;34m*\u001b[0m\u001b[0margs\u001b[0m\u001b[0;34m,\u001b[0m \u001b[0;34m**\u001b[0m\u001b[0mkwargs\u001b[0m\u001b[0;34m)\u001b[0m\u001b[0;34m\u001b[0m\u001b[0;34m\u001b[0m\u001b[0m\n\u001b[0m\u001b[1;32m   1748\u001b[0m \u001b[0;34m\u001b[0m\u001b[0m\n\u001b[1;32m   1749\u001b[0m         \u001b[0mresult\u001b[0m \u001b[0;34m=\u001b[0m \u001b[0;32mNone\u001b[0m\u001b[0;34m\u001b[0m\u001b[0;34m\u001b[0m\u001b[0m\n",
            "\u001b[0;32m/usr/local/lib/python3.10/dist-packages/torch/nn/modules/conv.py\u001b[0m in \u001b[0;36mforward\u001b[0;34m(self, input)\u001b[0m\n\u001b[1;32m    552\u001b[0m \u001b[0;34m\u001b[0m\u001b[0m\n\u001b[1;32m    553\u001b[0m     \u001b[0;32mdef\u001b[0m \u001b[0mforward\u001b[0m\u001b[0;34m(\u001b[0m\u001b[0mself\u001b[0m\u001b[0;34m,\u001b[0m \u001b[0minput\u001b[0m\u001b[0;34m:\u001b[0m \u001b[0mTensor\u001b[0m\u001b[0;34m)\u001b[0m \u001b[0;34m->\u001b[0m \u001b[0mTensor\u001b[0m\u001b[0;34m:\u001b[0m\u001b[0;34m\u001b[0m\u001b[0;34m\u001b[0m\u001b[0m\n\u001b[0;32m--> 554\u001b[0;31m         \u001b[0;32mreturn\u001b[0m \u001b[0mself\u001b[0m\u001b[0;34m.\u001b[0m\u001b[0m_conv_forward\u001b[0m\u001b[0;34m(\u001b[0m\u001b[0minput\u001b[0m\u001b[0;34m,\u001b[0m \u001b[0mself\u001b[0m\u001b[0;34m.\u001b[0m\u001b[0mweight\u001b[0m\u001b[0;34m,\u001b[0m \u001b[0mself\u001b[0m\u001b[0;34m.\u001b[0m\u001b[0mbias\u001b[0m\u001b[0;34m)\u001b[0m\u001b[0;34m\u001b[0m\u001b[0;34m\u001b[0m\u001b[0m\n\u001b[0m\u001b[1;32m    555\u001b[0m \u001b[0;34m\u001b[0m\u001b[0m\n\u001b[1;32m    556\u001b[0m \u001b[0;34m\u001b[0m\u001b[0m\n",
            "\u001b[0;32m/usr/local/lib/python3.10/dist-packages/torch/nn/modules/conv.py\u001b[0m in \u001b[0;36m_conv_forward\u001b[0;34m(self, input, weight, bias)\u001b[0m\n\u001b[1;32m    547\u001b[0m                 \u001b[0mself\u001b[0m\u001b[0;34m.\u001b[0m\u001b[0mgroups\u001b[0m\u001b[0;34m,\u001b[0m\u001b[0;34m\u001b[0m\u001b[0;34m\u001b[0m\u001b[0m\n\u001b[1;32m    548\u001b[0m             )\n\u001b[0;32m--> 549\u001b[0;31m         return F.conv2d(\n\u001b[0m\u001b[1;32m    550\u001b[0m             \u001b[0minput\u001b[0m\u001b[0;34m,\u001b[0m \u001b[0mweight\u001b[0m\u001b[0;34m,\u001b[0m \u001b[0mbias\u001b[0m\u001b[0;34m,\u001b[0m \u001b[0mself\u001b[0m\u001b[0;34m.\u001b[0m\u001b[0mstride\u001b[0m\u001b[0;34m,\u001b[0m \u001b[0mself\u001b[0m\u001b[0;34m.\u001b[0m\u001b[0mpadding\u001b[0m\u001b[0;34m,\u001b[0m \u001b[0mself\u001b[0m\u001b[0;34m.\u001b[0m\u001b[0mdilation\u001b[0m\u001b[0;34m,\u001b[0m \u001b[0mself\u001b[0m\u001b[0;34m.\u001b[0m\u001b[0mgroups\u001b[0m\u001b[0;34m\u001b[0m\u001b[0;34m\u001b[0m\u001b[0m\n\u001b[1;32m    551\u001b[0m         )\n",
            "\u001b[0;31mRuntimeError\u001b[0m: Given groups=1, weight of size [32, 4, 8, 8], expected input[1, 1, 84, 84] to have 4 channels, but got 1 channels instead"
          ]
        }
      ],
      "source": [
        "import gymnasium as gym\n",
        "\n",
        "# Initialise the environment\n",
        "env = gym.make(ENV_ID)\n",
        "env = AtariWrapper(env)\n",
        "\n",
        "# Run 5 episodes\n",
        "num_episodes = 5\n",
        "\n",
        "for i in range(num_episodes):\n",
        "    obs, info = env.reset(seed=42)\n",
        "    done = False\n",
        "    score = 0\n",
        "\n",
        "    print(obs)\n",
        "    while not done:\n",
        "        with torch.no_grad():\n",
        "            obs = torch.tensor(\n",
        "                obs, dtype=torch.float32, device=device\n",
        "            ).unsqueeze(0)\n",
        "            print(obs.shape)\n",
        "            action = policy_net(obs).max(1).indices.view(1, 1)\n",
        "\n",
        "        # step (transition) through the environment with the action\n",
        "        # receiving the next obs, reward and if the episode has terminated or truncated\n",
        "        obs, reward, terminated, truncated, info = env.step(action.item())\n",
        "\n",
        "        # Collect rewards\n",
        "        score += reward\n",
        "\n",
        "        # set if done\n",
        "        done = terminated or truncated\n",
        "\n",
        "    print(f\"Episode {i+1}: {score}\")\n",
        "\n",
        "env.close()"
      ]
    },
    {
      "cell_type": "code",
      "source": [],
      "metadata": {
        "id": "nYjhGz3qid4o"
      },
      "execution_count": null,
      "outputs": []
    }
  ],
  "metadata": {
    "kernelspec": {
      "display_name": "Python 3",
      "name": "python3"
    },
    "language_info": {
      "codemirror_mode": {
        "name": "ipython",
        "version": 3
      },
      "file_extension": ".py",
      "mimetype": "text/x-python",
      "name": "python",
      "nbconvert_exporter": "python",
      "pygments_lexer": "ipython3",
      "version": "3.10.12"
    },
    "colab": {
      "provenance": [],
      "machine_shape": "hm",
      "gpuType": "A100",
      "include_colab_link": true
    },
    "accelerator": "GPU"
  },
  "nbformat": 4,
  "nbformat_minor": 0
}