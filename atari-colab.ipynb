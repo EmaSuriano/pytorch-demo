{
  "cells": [
    {
      "cell_type": "markdown",
      "metadata": {
        "id": "view-in-github",
        "colab_type": "text"
      },
      "source": [
        "<a href=\"https://colab.research.google.com/github/EmaSuriano/pytorch-demo/blob/main/atari-colab.ipynb\" target=\"_parent\"><img src=\"https://colab.research.google.com/assets/colab-badge.svg\" alt=\"Open In Colab\"/></a>"
      ]
    },
    {
      "cell_type": "markdown",
      "metadata": {
        "id": "WrxRn2N8IBu3"
      },
      "source": [
        "## DeepQN Tutorial\n",
        "\n",
        "Based on [Reinforcement Learning (DQN) Tutorial](https://pytorch.org/tutorials/intermediate/reinforcement_q_learning.html)\n"
      ]
    },
    {
      "cell_type": "markdown",
      "source": [
        "## Dependencies"
      ],
      "metadata": {
        "id": "3HAz00fBQHBW"
      }
    },
    {
      "cell_type": "code",
      "execution_count": 5,
      "metadata": {
        "id": "Mt10h8lYIBu4",
        "outputId": "44ae7abf-6336-42ea-9397-d3669059ff08",
        "colab": {
          "base_uri": "https://localhost:8080/"
        }
      },
      "outputs": [
        {
          "output_type": "stream",
          "name": "stdout",
          "text": [
            "Torch is properly installed!\n"
          ]
        }
      ],
      "source": [
        "import torch\n",
        "\n",
        "# https://pytorch.org/get-started/locally/\n",
        "print(\"Torch is properly installed!\")"
      ]
    },
    {
      "cell_type": "code",
      "execution_count": 8,
      "metadata": {
        "id": "-7mUudnUIBu5",
        "outputId": "340114bb-c54c-47e3-e596-765c9e5be147",
        "colab": {
          "base_uri": "https://localhost:8080/"
        }
      },
      "outputs": [
        {
          "output_type": "stream",
          "name": "stdout",
          "text": [
            "Requirement already satisfied: matplotlib in /usr/local/lib/python3.10/dist-packages (3.8.0)\n",
            "Requirement already satisfied: opencv-python in /usr/local/lib/python3.10/dist-packages (4.10.0.84)\n",
            "Requirement already satisfied: ale-py in /usr/local/lib/python3.10/dist-packages (0.10.1)\n",
            "Requirement already satisfied: gymnasium[classic_control] in /usr/local/lib/python3.10/dist-packages (1.0.0)\n",
            "Requirement already satisfied: imageio[ffmpeg] in /usr/local/lib/python3.10/dist-packages (2.4.1)\n",
            "Requirement already satisfied: numpy>=1.21.0 in /usr/local/lib/python3.10/dist-packages (from gymnasium[classic_control]) (1.26.4)\n",
            "Requirement already satisfied: cloudpickle>=1.2.0 in /usr/local/lib/python3.10/dist-packages (from gymnasium[classic_control]) (3.1.0)\n",
            "Requirement already satisfied: typing-extensions>=4.3.0 in /usr/local/lib/python3.10/dist-packages (from gymnasium[classic_control]) (4.12.2)\n",
            "Requirement already satisfied: farama-notifications>=0.0.1 in /usr/local/lib/python3.10/dist-packages (from gymnasium[classic_control]) (0.0.4)\n",
            "Requirement already satisfied: pygame>=2.1.3 in /usr/local/lib/python3.10/dist-packages (from gymnasium[classic_control]) (2.6.1)\n",
            "Requirement already satisfied: contourpy>=1.0.1 in /usr/local/lib/python3.10/dist-packages (from matplotlib) (1.3.1)\n",
            "Requirement already satisfied: cycler>=0.10 in /usr/local/lib/python3.10/dist-packages (from matplotlib) (0.12.1)\n",
            "Requirement already satisfied: fonttools>=4.22.0 in /usr/local/lib/python3.10/dist-packages (from matplotlib) (4.55.3)\n",
            "Requirement already satisfied: kiwisolver>=1.0.1 in /usr/local/lib/python3.10/dist-packages (from matplotlib) (1.4.7)\n",
            "Requirement already satisfied: packaging>=20.0 in /usr/local/lib/python3.10/dist-packages (from matplotlib) (24.2)\n",
            "Requirement already satisfied: pillow>=6.2.0 in /usr/local/lib/python3.10/dist-packages (from matplotlib) (11.0.0)\n",
            "Requirement already satisfied: pyparsing>=2.3.1 in /usr/local/lib/python3.10/dist-packages (from matplotlib) (3.2.0)\n",
            "Requirement already satisfied: python-dateutil>=2.7 in /usr/local/lib/python3.10/dist-packages (from matplotlib) (2.8.2)\n",
            "\u001b[33mWARNING: imageio 2.4.1 does not provide the extra 'ffmpeg'\u001b[0m\u001b[33m\n",
            "\u001b[0mRequirement already satisfied: six>=1.5 in /usr/local/lib/python3.10/dist-packages (from python-dateutil>=2.7->matplotlib) (1.17.0)\n"
          ]
        }
      ],
      "source": [
        "%pip install gymnasium[classic_control] gymnasium[atari] matplotlib opencv-python imageio[ffmpeg] ale-py"
      ]
    },
    {
      "cell_type": "markdown",
      "source": [
        "## Utils"
      ],
      "metadata": {
        "id": "BBm15qt-PiWf"
      }
    },
    {
      "cell_type": "code",
      "source": [
        "\"\"\"\n",
        "Adapted from\n",
        "https://github.com/DLR-RM/stable-baselines3/blob/master/stable_baselines3/common/atari_wrappers.py\n",
        "to store video\n",
        "\"\"\"\n",
        "\n",
        "from typing import Dict, SupportsFloat, Tuple, Any\n",
        "\n",
        "import gymnasium as gym\n",
        "import numpy as np\n",
        "from gymnasium import spaces\n",
        "import cv2\n",
        "\n",
        "AtariResetReturn = Tuple[np.ndarray, Dict[str, Any]]\n",
        "AtariStepReturn = Tuple[np.ndarray, SupportsFloat, bool, bool, Dict[str, Any]]\n",
        "\n",
        "\n",
        "def process_image(\n",
        "    image, crop_size=(34, 194, 0, 160), target_size=(84, 84), normalize=True\n",
        "):\n",
        "    \"\"\"\n",
        "    Grayscale, crop and resize image\n",
        "\n",
        "    Input\n",
        "    - image: shape(h,w,c),(210,160,3)\n",
        "    - crop_size: shape(min_h,max_h,min_w,max_w)\n",
        "    - target_size: (h,w)\n",
        "    - normalize: [0,255] -> [0,1]\n",
        "\n",
        "    Output\n",
        "    - shape(84,84)\n",
        "    \"\"\"\n",
        "    frame = cv2.cvtColor(image, cv2.COLOR_RGB2GRAY)  # To grayscale\n",
        "    frame = frame[crop_size[0] : crop_size[1], crop_size[2] : crop_size[3]]\n",
        "    frame = cv2.resize(frame, target_size, interpolation=cv2.INTER_AREA)  # Resize\n",
        "    if normalize:\n",
        "        return frame.astype(np.float32) / 255  # normalize\n",
        "    else:\n",
        "        return frame\n",
        "\n",
        "\n",
        "class StickyActionEnv(gym.Wrapper[np.ndarray, int, np.ndarray, int]):\n",
        "    \"\"\"\n",
        "    Sticky action.\n",
        "\n",
        "    Paper: https://arxiv.org/abs/1709.06009\n",
        "    Official implementation: https://github.com/mgbellemare/Arcade-Learning-Environment\n",
        "\n",
        "    :param env: Environment to wrap\n",
        "    :param action_repeat_probability: Probability of repeating the last action\n",
        "    \"\"\"\n",
        "\n",
        "    def __init__(self, env: gym.Env, action_repeat_probability: float) -> None:\n",
        "        super().__init__(env)\n",
        "        self.action_repeat_probability = action_repeat_probability\n",
        "        assert env.unwrapped.get_action_meanings()[0] == \"NOOP\"  # type: ignore[attr-defined]\n",
        "\n",
        "    def reset(self, **kwargs) -> AtariResetReturn:\n",
        "        self._sticky_action = 0  # NOOP\n",
        "        return self.env.reset(**kwargs)\n",
        "\n",
        "    def step(self, action: int) -> AtariStepReturn:\n",
        "        if self.np_random.random() >= self.action_repeat_probability:\n",
        "            self._sticky_action = action\n",
        "        return self.env.step(self._sticky_action)\n",
        "\n",
        "\n",
        "class NoopResetEnv(gym.Wrapper[np.ndarray, int, np.ndarray, int]):\n",
        "    \"\"\"\n",
        "    Sample initial states by taking random number of no-ops on reset.\n",
        "    No-op is assumed to be action 0.\n",
        "\n",
        "    :param env: Environment to wrap\n",
        "    :param noop_max: Maximum value of no-ops to run\n",
        "    \"\"\"\n",
        "\n",
        "    def __init__(self, env: gym.Env, noop_max: int = 30) -> None:\n",
        "        super().__init__(env)\n",
        "        self.noop_max = noop_max\n",
        "        self.override_num_noops = None\n",
        "        self.noop_action = 0\n",
        "        assert env.unwrapped.get_action_meanings()[0] == \"NOOP\"  # type: ignore[attr-defined]\n",
        "\n",
        "    def reset(self, **kwargs) -> AtariResetReturn:\n",
        "        self.env.reset(**kwargs)\n",
        "        if self.override_num_noops is not None:\n",
        "            noops = self.override_num_noops\n",
        "        else:\n",
        "            noops = self.unwrapped.np_random.integers(1, self.noop_max + 1)\n",
        "        assert noops > 0\n",
        "        obs = np.zeros(0)\n",
        "        info: Dict = {}\n",
        "        for _ in range(noops):\n",
        "            obs, _, terminated, truncated, info = self.env.step(self.noop_action)\n",
        "            if terminated or truncated:\n",
        "                obs, info = self.env.reset(**kwargs)\n",
        "        return obs, info\n",
        "\n",
        "\n",
        "class FireResetEnv(gym.Wrapper[np.ndarray, int, np.ndarray, int]):\n",
        "    \"\"\"\n",
        "    Take action on reset for environments that are fixed until firing.\n",
        "\n",
        "    :param env: Environment to wrap\n",
        "    \"\"\"\n",
        "\n",
        "    def __init__(self, env: gym.Env) -> None:\n",
        "        super().__init__(env)\n",
        "        assert env.unwrapped.get_action_meanings()[1] == \"FIRE\"  # type: ignore[attr-defined]\n",
        "        assert len(env.unwrapped.get_action_meanings()) >= 3  # type: ignore[attr-defined]\n",
        "\n",
        "    def reset(self, **kwargs) -> AtariResetReturn:\n",
        "        self.env.reset(**kwargs)\n",
        "        obs, _, terminated, truncated, info = self.env.step(1)\n",
        "        if terminated or truncated:\n",
        "            self.env.reset(**kwargs)\n",
        "        obs, _, terminated, truncated, info = self.env.step(2)\n",
        "        if terminated or truncated:\n",
        "            self.env.reset(**kwargs)\n",
        "        return obs, info\n",
        "\n",
        "\n",
        "class EpisodicLifeEnv(gym.Wrapper[np.ndarray, int, np.ndarray, int]):\n",
        "    \"\"\"\n",
        "    Make end-of-life == end-of-episode, but only reset on true game over.\n",
        "    Done by DeepMind for the DQN and co. since it helps value estimation.\n",
        "\n",
        "    :param env: Environment to wrap\n",
        "    \"\"\"\n",
        "\n",
        "    def __init__(self, env: gym.Env) -> None:\n",
        "        super().__init__(env)\n",
        "        self.lives = 0\n",
        "        self.was_real_done = True\n",
        "\n",
        "    def step(self, action: int) -> AtariStepReturn:\n",
        "        obs, reward, terminated, truncated, info = self.env.step(action)\n",
        "        self.was_real_done = terminated or truncated\n",
        "\n",
        "        # check current lives, make loss of life terminal,\n",
        "        # then update lives to handle bonus lives\n",
        "        lives = self.env.unwrapped.ale.lives()  # type: ignore[attr-defined]\n",
        "        if 0 < lives < self.lives:\n",
        "            # for Qbert sometimes we stay in lives == 0 condition for a few frames\n",
        "            # so its important to keep lives > 0, so that we only reset once\n",
        "            # the environment advertises done.\n",
        "            terminated = True\n",
        "\n",
        "        self.lives = lives\n",
        "        return obs, reward, terminated, truncated, info\n",
        "\n",
        "    def reset(self, **kwargs) -> AtariResetReturn:\n",
        "        \"\"\"\n",
        "        Calls the Gym environment reset, only when lives are exhausted.\n",
        "        This way all states are still reachable even though lives are episodic,\n",
        "        and the learner need not know about any of this behind-the-scenes.\n",
        "\n",
        "        :param kwargs: Extra keywords passed to env.reset() call\n",
        "        :return: the first observation of the environment\n",
        "        \"\"\"\n",
        "        if self.was_real_done:\n",
        "            obs, info = self.env.reset(**kwargs)\n",
        "        else:\n",
        "            # no-op step to advance from terminal/lost life state\n",
        "            obs, _, terminated, truncated, info = self.env.step(0)\n",
        "\n",
        "            # The no-op step can lead to a game over, so we need to check it again\n",
        "            # to see if we should reset the environment and avoid the\n",
        "            # monitor.py `RuntimeError: Tried to step environment that needs reset`\n",
        "            if terminated or truncated:\n",
        "                obs, info = self.env.reset(**kwargs)\n",
        "\n",
        "        self.lives = self.env.unwrapped.ale.lives()  # type: ignore[attr-defined]\n",
        "        return obs, info\n",
        "\n",
        "\n",
        "class MaxAndSkipEnv(gym.Wrapper[np.ndarray, int, np.ndarray, int]):\n",
        "    \"\"\"\n",
        "    Return only every ``skip``-th frame (frameskipping)\n",
        "    and return the max between the two last frames.\n",
        "\n",
        "    :param env: Environment to wrap\n",
        "    :param skip: Number of ``skip``-th frame\n",
        "        The same action will be taken ``skip`` times.\n",
        "    \"\"\"\n",
        "\n",
        "    def __init__(self, env: gym.Env, skip: int = 4) -> None:\n",
        "        super().__init__(env)\n",
        "        # most recent raw observations (for max pooling across time steps)\n",
        "        assert (\n",
        "            env.observation_space.dtype is not None\n",
        "        ), \"No dtype specified for the observation space\"\n",
        "        assert (\n",
        "            env.observation_space.shape is not None\n",
        "        ), \"No shape defined for the observation space\"\n",
        "        self._obs_buffer = np.zeros(\n",
        "            (2, *env.observation_space.shape), dtype=env.observation_space.dtype\n",
        "        )\n",
        "        self._skip = skip\n",
        "\n",
        "    def step(self, action: int) -> AtariStepReturn:\n",
        "        \"\"\"\n",
        "        Step the environment with the given action\n",
        "        Repeat action, sum reward, and max over last observations.\n",
        "\n",
        "        :param action: the action\n",
        "        :return: observation, reward, terminated, truncated, information\n",
        "        \"\"\"\n",
        "        total_reward = 0.0\n",
        "        terminated = truncated = False\n",
        "        for i in range(self._skip):\n",
        "            obs, reward, terminated, truncated, info = self.env.step(action)\n",
        "            done = terminated or truncated\n",
        "            if i == self._skip - 2:\n",
        "                self._obs_buffer[0] = obs\n",
        "            if i == self._skip - 1:\n",
        "                self._obs_buffer[1] = obs\n",
        "            total_reward += float(reward)\n",
        "            if done:\n",
        "                break\n",
        "        # Note that the observation on the done=True frame\n",
        "        # doesn't matter\n",
        "        max_frame = self._obs_buffer.max(axis=0)\n",
        "\n",
        "        return max_frame, total_reward, terminated, truncated, info\n",
        "\n",
        "\n",
        "class ClipRewardEnv(gym.RewardWrapper):\n",
        "    \"\"\"\n",
        "    Clip the reward to {+1, 0, -1} by its sign.\n",
        "\n",
        "    :param env: Environment to wrap\n",
        "    \"\"\"\n",
        "\n",
        "    def __init__(self, env: gym.Env) -> None:\n",
        "        super().__init__(env)\n",
        "\n",
        "    def reward(self, reward: SupportsFloat) -> float:\n",
        "        \"\"\"\n",
        "        Bin reward to {+1, 0, -1} by its sign.\n",
        "\n",
        "        :param reward:\n",
        "        :return:\n",
        "        \"\"\"\n",
        "        return np.sign(float(reward))\n",
        "\n",
        "\n",
        "class WarpFrame(gym.ObservationWrapper[np.ndarray, int, np.ndarray]):\n",
        "    \"\"\"\n",
        "    Convert to grayscale and warp frames to 84x84 (default)\n",
        "    as done in the Nature paper and later work.\n",
        "\n",
        "    :param env: Environment to wrap\n",
        "    :param width: New frame width\n",
        "    :param height: New frame height\n",
        "    \"\"\"\n",
        "\n",
        "    def __init__(\n",
        "        self,\n",
        "        env: gym.Env,\n",
        "        width: int = 84,\n",
        "        height: int = 84,\n",
        "        normalize: bool = True,\n",
        "        video=None,\n",
        "    ) -> None:\n",
        "        super().__init__(env)\n",
        "        self.width = width\n",
        "        self.height = height\n",
        "        self.normalize = normalize\n",
        "        self.video = video\n",
        "        assert isinstance(\n",
        "            env.observation_space, spaces.Box\n",
        "        ), f\"Expected Box space, got {env.observation_space}\"\n",
        "\n",
        "        self.observation_space = spaces.Box(\n",
        "            low=0,\n",
        "            high=255,\n",
        "            shape=(self.height, self.width, 1),\n",
        "            dtype=env.observation_space.dtype,  # type: ignore[arg-type]\n",
        "        )\n",
        "\n",
        "    def observation(self, frame: np.ndarray) -> np.ndarray:\n",
        "        \"\"\"\n",
        "        returns the current observation from a frame\n",
        "\n",
        "        :param frame: environment frame\n",
        "        :return: the observation shape(84,84) by default\n",
        "        \"\"\"\n",
        "        if self.video is not None:\n",
        "            self.video.record(frame)\n",
        "        return process_image(\n",
        "            frame, target_size=(self.width, self.height), normalize=self.normalize\n",
        "        )\n",
        "\n",
        "\n",
        "class AtariWrapper(gym.Wrapper[np.ndarray, int, np.ndarray, int]):\n",
        "    \"\"\"\n",
        "    Atari 2600 preprocessings\n",
        "\n",
        "    Specifically:\n",
        "\n",
        "    * Noop reset: obtain initial state by taking random number of no-ops on reset.\n",
        "    * Frame skipping: 4 by default\n",
        "    * Max-pooling: most recent two observations\n",
        "    * Termination signal when a life is lost.\n",
        "    * Resize to a square image: 84x84 by default\n",
        "    * Grayscale observation\n",
        "    * Clip reward to {-1, 0, 1}\n",
        "    * Sticky actions: disabled by default\n",
        "    * Normalize the rgb output to [0,1]\n",
        "\n",
        "    See https://danieltakeshi.github.io/2016/11/25/frame-skipping-and-preprocessing-for-deep-q-networks-on-atari-2600-games/\n",
        "    for a visual explanation.\n",
        "\n",
        "    .. warning::\n",
        "        Use this wrapper only with Atari v4 without frame skip: ``env_id = \"*NoFrameskip-v4\"``.\n",
        "\n",
        "    :param env: Environment to wrap\n",
        "    :param noop_max: Max number of no-ops\n",
        "    :param frame_skip: Frequency at which the agent experiences the game.\n",
        "        This correspond to repeating the action ``frame_skip`` times.\n",
        "    :param screen_size: Resize Atari frame\n",
        "    :param terminal_on_life_loss: If True, then step() returns done=True whenever a life is lost.\n",
        "    :param clip_reward: If True (default), the reward is clip to {-1, 0, 1} depending on its sign.\n",
        "    :param action_repeat_probability: Probability of repeating the last action\n",
        "    \"\"\"\n",
        "\n",
        "    def __init__(\n",
        "        self,\n",
        "        env: gym.Env,\n",
        "        noop_max: int = 30,\n",
        "        frame_skip: int = 4,\n",
        "        screen_size: int = 84,\n",
        "        terminal_on_life_loss: bool = True,\n",
        "        clip_reward: bool = True,\n",
        "        action_repeat_probability: float = 0.0,\n",
        "        normalize: bool = True,\n",
        "        video=None,\n",
        "    ) -> None:\n",
        "        if action_repeat_probability > 0.0:\n",
        "            env = StickyActionEnv(env, action_repeat_probability)\n",
        "        if noop_max > 0:\n",
        "            env = NoopResetEnv(env, noop_max=noop_max)\n",
        "        # frame_skip=1 is the same as no frame-skip (action repeat)\n",
        "        if frame_skip > 1:\n",
        "            env = MaxAndSkipEnv(env, skip=frame_skip)\n",
        "        if terminal_on_life_loss:\n",
        "            env = EpisodicLifeEnv(env)\n",
        "        if \"FIRE\" in env.unwrapped.get_action_meanings():  # type: ignore[attr-defined]\n",
        "            env = FireResetEnv(env)\n",
        "        env = WarpFrame(\n",
        "            env, width=screen_size, height=screen_size, normalize=normalize, video=video\n",
        "        )\n",
        "        if clip_reward:\n",
        "            env = ClipRewardEnv(env)\n",
        "\n",
        "        super().__init__(env)\n"
      ],
      "metadata": {
        "id": "3gMmyu_NJpFW"
      },
      "execution_count": 15,
      "outputs": []
    },
    {
      "cell_type": "code",
      "source": [
        "from IPython.core.display import Video, display\n",
        "from moviepy.editor import *\n",
        "import time\n",
        "import cv2\n",
        "import gym\n",
        "import os\n",
        "\n",
        "class Recorder(gym.Wrapper):\n",
        "    def __init__(self, env, directory, auto_release=True, size=None, fps=None):\n",
        "        super(Recorder, self).__init__(env)\n",
        "        self.directory = directory\n",
        "        self.auto_release = auto_release\n",
        "        self.active = True\n",
        "\n",
        "        if not os.path.exists(self.directory):\n",
        "            os.mkdir(self.directory)\n",
        "\n",
        "        self.env.reset()\n",
        "        self.size = size\n",
        "        # if size is None:\n",
        "        #     self.size = self.env.render(mode = 'rgb_array').shape[:2][::-1]\n",
        "        # else:\n",
        "        #     self.size = size\n",
        "\n",
        "        if fps is None:\n",
        "            if 'video.frames_per_second' in self.env.metadata:\n",
        "                self.fps = self.env.metadata['video.frames_per_second']\n",
        "            else:\n",
        "                self.fps = 30\n",
        "        else:\n",
        "            self.fps = fps\n",
        "\n",
        "    def pause(self):\n",
        "        self.active = False\n",
        "\n",
        "    def resume(self):\n",
        "        self.active = True\n",
        "\n",
        "    def _start(self):\n",
        "        self.cliptime = time.time()\n",
        "        self.path = f'{self.directory}/{self.cliptime}.mp4'\n",
        "        fourcc = cv2.VideoWriter_fourcc(*'MP4V')\n",
        "        self._writer = cv2.VideoWriter(self.path, fourcc, self.fps, self.size)\n",
        "\n",
        "    def _write(self):\n",
        "        if self.active:\n",
        "            frame = self.env.render()\n",
        "            frame = cv2.cvtColor(frame, cv2.COLOR_RGB2BGR)\n",
        "            self._writer.write(frame)\n",
        "\n",
        "    def release(self):\n",
        "        self._writer.release()\n",
        "\n",
        "    def reset(self, *args, **kwargs):\n",
        "        observation = self.env.reset(*args, **kwargs)\n",
        "        self._start()\n",
        "        self._write()\n",
        "        return observation\n",
        "\n",
        "    def step(self, *args, **kwargs):\n",
        "        data = self.env.step(*args, **kwargs)\n",
        "        self._write()\n",
        "\n",
        "        if self.auto_release and data[2]:\n",
        "            self.release()\n",
        "\n",
        "        return data\n",
        "\n",
        "    def play(self):\n",
        "        start = time.time()\n",
        "        filename = 'temp-{start}.mp4'\n",
        "        clip = VideoFileClip(self.path)\n",
        "        clip.write_videofile(filename, verbose = False)\n",
        "        display(Video(filename, embed = True))\n",
        "        os.remove(filename)\n"
      ],
      "metadata": {
        "id": "pbb4n96aPmo9"
      },
      "execution_count": 33,
      "outputs": []
    },
    {
      "cell_type": "markdown",
      "metadata": {
        "id": "7d6J4ZdEIBu6"
      },
      "source": [
        "## Testing Env"
      ]
    },
    {
      "cell_type": "code",
      "source": [
        "import gymnasium as gym\n",
        "import math\n",
        "import random\n",
        "import matplotlib\n",
        "import matplotlib.pyplot as plt\n",
        "from collections import namedtuple, deque\n",
        "from itertools import count\n",
        "import ale_py\n",
        "\n",
        "import torch\n",
        "import torch.nn as nn\n",
        "import torch.optim as optim\n",
        "import torch.nn.functional as F\n",
        "\n",
        "gym.register_envs(ale_py)\n",
        "\n",
        "env = gym.make(\"SpaceInvadersNoFrameskip-v4\")\n",
        "env = AtariWrapper(env)\n",
        "\n",
        "# set up matplotlib\n",
        "is_ipython = \"inline\" in matplotlib.get_backend()\n",
        "if is_ipython:\n",
        "    from IPython import display\n",
        "\n",
        "plt.ion()\n",
        "\n",
        "# if GPU is to be used\n",
        "device = torch.device(\n",
        "    \"cuda\"\n",
        "    if torch.cuda.is_available()\n",
        "    else \"mps\" if torch.backends.mps.is_available() else \"cpu\"\n",
        ")\n",
        "\n",
        "device"
      ],
      "metadata": {
        "id": "4kb_EdENPqDd",
        "outputId": "8d54d6cd-6387-4f54-df46-e5caa07cc1fe",
        "colab": {
          "base_uri": "https://localhost:8080/"
        }
      },
      "execution_count": 17,
      "outputs": [
        {
          "output_type": "execute_result",
          "data": {
            "text/plain": [
              "device(type='cuda')"
            ]
          },
          "metadata": {},
          "execution_count": 17
        }
      ]
    },
    {
      "cell_type": "code",
      "source": [
        "def test_env(env_test, take_action, num_episodes=5):\n",
        "    scores = []\n",
        "    for i in range(num_episodes):\n",
        "        observation, info = env_test.reset(seed=42)\n",
        "        done = False\n",
        "        score = 0\n",
        "\n",
        "        while not done:\n",
        "            # get next action\n",
        "            action = take_action(observation)\n",
        "\n",
        "            # take a step in the env\n",
        "            observation, reward, terminated, truncated, info = env_test.step(action)\n",
        "\n",
        "            # Collect rewards\n",
        "            score += reward\n",
        "\n",
        "            # set if done\n",
        "            done = terminated or truncated\n",
        "\n",
        "        print(f\"Episode {i+1}: {score}\")\n",
        "        scores.append(score)\n",
        "\n",
        "    print(f\"Episode Avg: {np.mean(scores)}\")\n",
        "    env_test.close()\n",
        "\n",
        "env_test = gym.make(\"ALE/SpaceInvaders-v5\")\n",
        "test_env(env_test, lambda obs: env.action_space.sample())"
      ],
      "metadata": {
        "id": "BwWZ5t6RT4I4",
        "outputId": "5461ca7f-bbea-467d-b54f-0f5ed6f8a27f",
        "colab": {
          "base_uri": "https://localhost:8080/"
        }
      },
      "execution_count": 45,
      "outputs": [
        {
          "output_type": "stream",
          "name": "stdout",
          "text": [
            "Episode 1: 120.0\n",
            "Episode 2: 75.0\n",
            "Episode 3: 135.0\n",
            "Episode 4: 45.0\n",
            "Episode 5: 95.0\n",
            "Avg: 94.0\n"
          ]
        }
      ]
    },
    {
      "cell_type": "code",
      "source": [
        "import gymnasium as gym\n",
        "from gymnasium.wrappers import RecordVideo\n",
        "from IPython.display import Video\n",
        "\n",
        "# Create the Atari environment\n",
        "env = gym.make(\"ALE/SpaceInvaders-v5\", render_mode=\"rgb_array\")  # Use \"rgb_array\" for rendering frames\n",
        "\n",
        "video_folder = 'videos'\n",
        "video_prefix = 'demo'\n",
        "\n",
        "# Wrap the environment with RecordVideo\n",
        "env = RecordVideo(env, video_folder=video_folder, name_prefix=video_prefix)\n",
        "\n",
        "# Run the environment\n",
        "observation, info = env.reset()\n",
        "for _ in range(1000):\n",
        "    action = env.action_space.sample()  # Random action\n",
        "    observation, reward, terminated, truncated, info = env.step(action)\n",
        "    if terminated or truncated:\n",
        "        observation, info = env.reset()\n",
        "\n",
        "# Close the environment\n",
        "env.close()\n",
        "\n",
        "video_path = f\"./{video_folder}/{video_prefix}-0.mp4\"\n",
        "Video(video_path, embed=True)\n"
      ],
      "metadata": {
        "id": "wjQDEmKHTHGR",
        "outputId": "d951757c-a623-4c6f-d070-c9177bf61a4e",
        "colab": {
          "base_uri": "https://localhost:8080/",
          "height": 231
        }
      },
      "execution_count": 47,
      "outputs": [
        {
          "output_type": "execute_result",
          "data": {
            "text/plain": [
              "<IPython.core.display.Video object>"
            ],
            "text/html": [
              "<video controls  >\n",
              " <source src=\"data:video/mp4;base64,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\" type=\"video/mp4\">\n",
              " Your browser does not support the video tag.\n",
              " </video>"
            ]
          },
          "metadata": {},
          "execution_count": 47
        }
      ]
    },
    {
      "cell_type": "code",
      "execution_count": 34,
      "metadata": {
        "id": "JETQP3ZbIBu6",
        "outputId": "62cbda9f-1d7f-4008-fc29-6d96655e38e2",
        "colab": {
          "base_uri": "https://localhost:8080/",
          "height": 373
        }
      },
      "outputs": [
        {
          "output_type": "stream",
          "name": "stdout",
          "text": [
            "Episode 1: 225.0\n"
          ]
        },
        {
          "output_type": "error",
          "ename": "OSError",
          "evalue": "MoviePy error: the file ./video/1734181771.1320045.mp4 could not be found!\nPlease check that you entered the correct path.",
          "traceback": [
            "\u001b[0;31m---------------------------------------------------------------------------\u001b[0m",
            "\u001b[0;31mOSError\u001b[0m                                   Traceback (most recent call last)",
            "\u001b[0;32m<ipython-input-34-173b528e3b7e>\u001b[0m in \u001b[0;36m<cell line: 33>\u001b[0;34m()\u001b[0m\n\u001b[1;32m     31\u001b[0m \u001b[0menv_test\u001b[0m \u001b[0;34m=\u001b[0m \u001b[0mtest_env\u001b[0m\u001b[0;34m(\u001b[0m\u001b[0menv_test\u001b[0m\u001b[0;34m,\u001b[0m \u001b[0;32mlambda\u001b[0m \u001b[0mobs\u001b[0m\u001b[0;34m:\u001b[0m \u001b[0menv\u001b[0m\u001b[0;34m.\u001b[0m\u001b[0maction_space\u001b[0m\u001b[0;34m.\u001b[0m\u001b[0msample\u001b[0m\u001b[0;34m(\u001b[0m\u001b[0;34m)\u001b[0m\u001b[0;34m,\u001b[0m \u001b[0mnum_episodes\u001b[0m\u001b[0;34m=\u001b[0m\u001b[0;36m1\u001b[0m\u001b[0;34m)\u001b[0m\u001b[0;34m\u001b[0m\u001b[0;34m\u001b[0m\u001b[0m\n\u001b[1;32m     32\u001b[0m \u001b[0;34m\u001b[0m\u001b[0m\n\u001b[0;32m---> 33\u001b[0;31m \u001b[0menv_test\u001b[0m\u001b[0;34m.\u001b[0m\u001b[0mplay\u001b[0m\u001b[0;34m(\u001b[0m\u001b[0;34m)\u001b[0m\u001b[0;34m\u001b[0m\u001b[0;34m\u001b[0m\u001b[0m\n\u001b[0m",
            "\u001b[0;32m<ipython-input-33-bee089d3f2f6>\u001b[0m in \u001b[0;36mplay\u001b[0;34m(self)\u001b[0m\n\u001b[1;32m     70\u001b[0m         \u001b[0mstart\u001b[0m \u001b[0;34m=\u001b[0m \u001b[0mtime\u001b[0m\u001b[0;34m.\u001b[0m\u001b[0mtime\u001b[0m\u001b[0;34m(\u001b[0m\u001b[0;34m)\u001b[0m\u001b[0;34m\u001b[0m\u001b[0;34m\u001b[0m\u001b[0m\n\u001b[1;32m     71\u001b[0m         \u001b[0mfilename\u001b[0m \u001b[0;34m=\u001b[0m \u001b[0;34m'temp-{start}.mp4'\u001b[0m\u001b[0;34m\u001b[0m\u001b[0;34m\u001b[0m\u001b[0m\n\u001b[0;32m---> 72\u001b[0;31m         \u001b[0mclip\u001b[0m \u001b[0;34m=\u001b[0m \u001b[0mVideoFileClip\u001b[0m\u001b[0;34m(\u001b[0m\u001b[0mself\u001b[0m\u001b[0;34m.\u001b[0m\u001b[0mpath\u001b[0m\u001b[0;34m)\u001b[0m\u001b[0;34m\u001b[0m\u001b[0;34m\u001b[0m\u001b[0m\n\u001b[0m\u001b[1;32m     73\u001b[0m         \u001b[0mclip\u001b[0m\u001b[0;34m.\u001b[0m\u001b[0mwrite_videofile\u001b[0m\u001b[0;34m(\u001b[0m\u001b[0mfilename\u001b[0m\u001b[0;34m,\u001b[0m \u001b[0mverbose\u001b[0m \u001b[0;34m=\u001b[0m \u001b[0;32mFalse\u001b[0m\u001b[0;34m)\u001b[0m\u001b[0;34m\u001b[0m\u001b[0;34m\u001b[0m\u001b[0m\n\u001b[1;32m     74\u001b[0m         \u001b[0mdisplay\u001b[0m\u001b[0;34m(\u001b[0m\u001b[0mVideo\u001b[0m\u001b[0;34m(\u001b[0m\u001b[0mfilename\u001b[0m\u001b[0;34m,\u001b[0m \u001b[0membed\u001b[0m \u001b[0;34m=\u001b[0m \u001b[0;32mTrue\u001b[0m\u001b[0;34m)\u001b[0m\u001b[0;34m)\u001b[0m\u001b[0;34m\u001b[0m\u001b[0;34m\u001b[0m\u001b[0m\n",
            "\u001b[0;32m/usr/local/lib/python3.10/dist-packages/moviepy/video/io/VideoFileClip.py\u001b[0m in \u001b[0;36m__init__\u001b[0;34m(self, filename, has_mask, audio, audio_buffersize, target_resolution, resize_algorithm, audio_fps, audio_nbytes, verbose, fps_source)\u001b[0m\n\u001b[1;32m     86\u001b[0m         \u001b[0;31m# Make a reader\u001b[0m\u001b[0;34m\u001b[0m\u001b[0;34m\u001b[0m\u001b[0m\n\u001b[1;32m     87\u001b[0m         \u001b[0mpix_fmt\u001b[0m \u001b[0;34m=\u001b[0m \u001b[0;34m\"rgba\"\u001b[0m \u001b[0;32mif\u001b[0m \u001b[0mhas_mask\u001b[0m \u001b[0;32melse\u001b[0m \u001b[0;34m\"rgb24\"\u001b[0m\u001b[0;34m\u001b[0m\u001b[0;34m\u001b[0m\u001b[0m\n\u001b[0;32m---> 88\u001b[0;31m         self.reader = FFMPEG_VideoReader(filename, pix_fmt=pix_fmt,\n\u001b[0m\u001b[1;32m     89\u001b[0m                                          \u001b[0mtarget_resolution\u001b[0m\u001b[0;34m=\u001b[0m\u001b[0mtarget_resolution\u001b[0m\u001b[0;34m,\u001b[0m\u001b[0;34m\u001b[0m\u001b[0;34m\u001b[0m\u001b[0m\n\u001b[1;32m     90\u001b[0m                                          \u001b[0mresize_algo\u001b[0m\u001b[0;34m=\u001b[0m\u001b[0mresize_algorithm\u001b[0m\u001b[0;34m,\u001b[0m\u001b[0;34m\u001b[0m\u001b[0;34m\u001b[0m\u001b[0m\n",
            "\u001b[0;32m/usr/local/lib/python3.10/dist-packages/moviepy/video/io/ffmpeg_reader.py\u001b[0m in \u001b[0;36m__init__\u001b[0;34m(self, filename, print_infos, bufsize, pix_fmt, check_duration, target_resolution, resize_algo, fps_source)\u001b[0m\n\u001b[1;32m     33\u001b[0m         \u001b[0mself\u001b[0m\u001b[0;34m.\u001b[0m\u001b[0mfilename\u001b[0m \u001b[0;34m=\u001b[0m \u001b[0mfilename\u001b[0m\u001b[0;34m\u001b[0m\u001b[0;34m\u001b[0m\u001b[0m\n\u001b[1;32m     34\u001b[0m         \u001b[0mself\u001b[0m\u001b[0;34m.\u001b[0m\u001b[0mproc\u001b[0m \u001b[0;34m=\u001b[0m \u001b[0;32mNone\u001b[0m\u001b[0;34m\u001b[0m\u001b[0;34m\u001b[0m\u001b[0m\n\u001b[0;32m---> 35\u001b[0;31m         infos = ffmpeg_parse_infos(filename, print_infos, check_duration,\n\u001b[0m\u001b[1;32m     36\u001b[0m                                    fps_source)\n\u001b[1;32m     37\u001b[0m         \u001b[0mself\u001b[0m\u001b[0;34m.\u001b[0m\u001b[0mfps\u001b[0m \u001b[0;34m=\u001b[0m \u001b[0minfos\u001b[0m\u001b[0;34m[\u001b[0m\u001b[0;34m'video_fps'\u001b[0m\u001b[0;34m]\u001b[0m\u001b[0;34m\u001b[0m\u001b[0;34m\u001b[0m\u001b[0m\n",
            "\u001b[0;32m/usr/local/lib/python3.10/dist-packages/moviepy/video/io/ffmpeg_reader.py\u001b[0m in \u001b[0;36mffmpeg_parse_infos\u001b[0;34m(filename, print_infos, check_duration, fps_source)\u001b[0m\n\u001b[1;32m    268\u001b[0m     \u001b[0mlines\u001b[0m \u001b[0;34m=\u001b[0m \u001b[0minfos\u001b[0m\u001b[0;34m.\u001b[0m\u001b[0msplitlines\u001b[0m\u001b[0;34m(\u001b[0m\u001b[0;34m)\u001b[0m\u001b[0;34m\u001b[0m\u001b[0;34m\u001b[0m\u001b[0m\n\u001b[1;32m    269\u001b[0m     \u001b[0;32mif\u001b[0m \u001b[0;34m\"No such file or directory\"\u001b[0m \u001b[0;32min\u001b[0m \u001b[0mlines\u001b[0m\u001b[0;34m[\u001b[0m\u001b[0;34m-\u001b[0m\u001b[0;36m1\u001b[0m\u001b[0;34m]\u001b[0m\u001b[0;34m:\u001b[0m\u001b[0;34m\u001b[0m\u001b[0;34m\u001b[0m\u001b[0m\n\u001b[0;32m--> 270\u001b[0;31m         raise IOError((\"MoviePy error: the file %s could not be found!\\n\"\n\u001b[0m\u001b[1;32m    271\u001b[0m                       \u001b[0;34m\"Please check that you entered the correct \"\u001b[0m\u001b[0;34m\u001b[0m\u001b[0;34m\u001b[0m\u001b[0m\n\u001b[1;32m    272\u001b[0m                       \"path.\")%filename)\n",
            "\u001b[0;31mOSError\u001b[0m: MoviePy error: the file ./video/1734181771.1320045.mp4 could not be found!\nPlease check that you entered the correct path."
          ]
        }
      ],
      "source": [
        "import gymnasium as gym\n",
        "\n",
        "directory = './video'\n",
        "env_test = Recorder(env_test, directory)\n",
        "env_test = gym.make(\"ALE/SpaceInvaders-v5\", render_mode='rgb_array')\n",
        "env = RecordVideo(env, video_folder=\"./videos\", episode_trigger=lambda episode_id: True)\n",
        "test_env(env_test, lambda obs: env.action_space.sample(), num_episodes=1)\n",
        "\n",
        "env_test.play"
      ]
    },
    {
      "cell_type": "code",
      "source": [
        "pip install imageio==2.4.1"
      ],
      "metadata": {
        "colab": {
          "base_uri": "https://localhost:8080/",
          "height": 481
        },
        "id": "GBE62f9INQY5",
        "outputId": "9ee57432-d182-48e2-a19d-9a86a6fb2272"
      },
      "execution_count": 27,
      "outputs": [
        {
          "output_type": "stream",
          "name": "stdout",
          "text": [
            "Collecting imageio==2.4.1\n",
            "  Downloading imageio-2.4.1.tar.gz (3.3 MB)\n",
            "\u001b[2K     \u001b[90m━━━━━━━━━━━━━━━━━━━━━━━━━━━━━━━━━━━━━━━━\u001b[0m \u001b[32m3.3/3.3 MB\u001b[0m \u001b[31m31.3 MB/s\u001b[0m eta \u001b[36m0:00:00\u001b[0m\n",
            "\u001b[?25h  Preparing metadata (setup.py) ... \u001b[?25l\u001b[?25hdone\n",
            "Requirement already satisfied: numpy in /usr/local/lib/python3.10/dist-packages (from imageio==2.4.1) (1.26.4)\n",
            "Requirement already satisfied: pillow in /usr/local/lib/python3.10/dist-packages (from imageio==2.4.1) (11.0.0)\n",
            "Building wheels for collected packages: imageio\n",
            "  Building wheel for imageio (setup.py) ... \u001b[?25l\u001b[?25hdone\n",
            "  Created wheel for imageio: filename=imageio-2.4.1-py3-none-any.whl size=3303884 sha256=d8aa9731b47352b3e325fb103686d78727276dc89633c769c21b1f65ab889e10\n",
            "  Stored in directory: /root/.cache/pip/wheels/96/5d/ce/bdbdb04744dac03906336eb0d01ff1e222061d3419c55c55f9\n",
            "Successfully built imageio\n",
            "Installing collected packages: imageio\n",
            "  Attempting uninstall: imageio\n",
            "    Found existing installation: imageio 2.36.1\n",
            "    Uninstalling imageio-2.36.1:\n",
            "      Successfully uninstalled imageio-2.36.1\n",
            "\u001b[31mERROR: pip's dependency resolver does not currently take into account all the packages that are installed. This behaviour is the source of the following dependency conflicts.\n",
            "moviepy 1.0.3 requires imageio<3.0,>=2.5; python_version >= \"3.4\", but you have imageio 2.4.1 which is incompatible.\n",
            "scikit-image 0.24.0 requires imageio>=2.33, but you have imageio 2.4.1 which is incompatible.\u001b[0m\u001b[31m\n",
            "\u001b[0mSuccessfully installed imageio-2.4.1\n"
          ]
        },
        {
          "output_type": "display_data",
          "data": {
            "application/vnd.colab-display-data+json": {
              "pip_warning": {
                "packages": [
                  "imageio"
                ]
              },
              "id": "4c747dcd306649f1b01e97b3b9daf97e"
            }
          },
          "metadata": {}
        }
      ]
    },
    {
      "cell_type": "code",
      "source": [
        "import gym\n",
        "from recorder import Recorder\n",
        "\n",
        "# print(list(gym.envs.registry.keys()))\n",
        "\n",
        "\n",
        "env = gym.make(\"CartPole-v0\")\n",
        "directory = './video'\n",
        "env = Recorder(env, directory)\n",
        "\n",
        "observation = env.reset()\n",
        "terminal = False\n",
        "while not terminal:\n",
        "  action = env.action_space.sample()\n",
        "  observation, reward, terminal, info = env.step(action)\n",
        "\n",
        "env.play()"
      ],
      "metadata": {
        "colab": {
          "base_uri": "https://localhost:8080/",
          "height": 806
        },
        "id": "caeuSmnWMITc",
        "outputId": "69b1223b-f9b4-4d54-f204-bb9d15493edc"
      },
      "execution_count": 2,
      "outputs": [
        {
          "output_type": "stream",
          "name": "stderr",
          "text": [
            "WARNING:py.warnings:/usr/local/lib/python3.10/dist-packages/gym/envs/registration.py:593: UserWarning: \u001b[33mWARN: The environment CartPole-v0 is out of date. You should consider upgrading to version `v1`.\u001b[0m\n",
            "  logger.warn(\n",
            "\n",
            "WARNING:py.warnings:/usr/local/lib/python3.10/dist-packages/gym/core.py:317: DeprecationWarning: \u001b[33mWARN: Initializing wrapper in old step API which returns one bool instead of two. It is recommended to set `new_step_api=True` to use new step API. This will be the default behaviour in future.\u001b[0m\n",
            "  deprecation(\n",
            "\n",
            "WARNING:py.warnings:/usr/local/lib/python3.10/dist-packages/gym/wrappers/step_api_compatibility.py:39: DeprecationWarning: \u001b[33mWARN: Initializing environment in old step API which returns one bool instead of two. It is recommended to set `new_step_api=True` to use new step API. This will be the default behaviour in future.\u001b[0m\n",
            "  deprecation(\n",
            "\n",
            "WARNING:py.warnings:/usr/local/lib/python3.10/dist-packages/gym/core.py:43: DeprecationWarning: \u001b[33mWARN: The argument mode in render method is deprecated; use render_mode during environment initialization instead.\n",
            "See here for more information: https://www.gymlibrary.ml/content/api/\u001b[0m\n",
            "  deprecation(\n",
            "\n",
            "WARNING:py.warnings:/usr/local/lib/python3.10/dist-packages/gym/utils/passive_env_checker.py:241: DeprecationWarning: `np.bool8` is a deprecated alias for `np.bool_`.  (Deprecated NumPy 1.24)\n",
            "  if not isinstance(terminated, (bool, np.bool8)):\n",
            "\n"
          ]
        },
        {
          "output_type": "stream",
          "name": "stdout",
          "text": [
            "Moviepy - Building video temp-{start}.mp4.\n",
            "Moviepy - Writing video temp-{start}.mp4\n",
            "\n"
          ]
        },
        {
          "output_type": "stream",
          "name": "stderr",
          "text": [
            "                                                           "
          ]
        },
        {
          "output_type": "stream",
          "name": "stdout",
          "text": [
            "Moviepy - Done !\n",
            "Moviepy - video ready temp-{start}.mp4\n"
          ]
        },
        {
          "output_type": "stream",
          "name": "stderr",
          "text": [
            "\r"
          ]
        },
        {
          "output_type": "display_data",
          "data": {
            "text/plain": [
              "<IPython.core.display.Video object>"
            ],
            "text/html": [
              "<video controls  >\n",
              " <source src=\"data:video/mp4;base64,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\" type=\"video/mp4\">\n",
              " Your browser does not support the video tag.\n",
              " </video>"
            ]
          },
          "metadata": {}
        }
      ]
    },
    {
      "cell_type": "markdown",
      "metadata": {
        "id": "dk4BgYISIBu6"
      },
      "source": [
        "## DQN"
      ]
    },
    {
      "cell_type": "code",
      "execution_count": null,
      "metadata": {
        "id": "7_A2XvxuIBu6"
      },
      "outputs": [],
      "source": [
        "class DQN(nn.Module):\n",
        "    def __init__(self, in_channels, n_actions):\n",
        "        super().__init__()\n",
        "        self.conv1 = nn.Conv2d(in_channels, 32, kernel_size=8, stride=4)\n",
        "        self.conv2 = nn.Conv2d(32, 64, kernel_size=4, stride=2)\n",
        "        self.conv3 = nn.Conv2d(64, 64, kernel_size=3, stride=1)\n",
        "        self.fc1 = nn.Linear(64 * 7 * 7, 512)\n",
        "        self.fc2 = nn.Linear(512, n_actions)\n",
        "\n",
        "    def forward(self, x):\n",
        "        \"\"\"\n",
        "        Input shape: (bs,c,h,w) #(bs,4,84,84)\n",
        "        Output shape: (bs,n_actions)\n",
        "        \"\"\"\n",
        "        x = F.relu(self.conv1(x))\n",
        "        x = F.relu(self.conv2(x))\n",
        "        x = F.relu(self.conv3(x))\n",
        "        x = torch.flatten(x, 1)\n",
        "        x = F.relu(self.fc1(x))\n",
        "        return self.fc2(x)"
      ]
    },
    {
      "cell_type": "markdown",
      "metadata": {
        "id": "SuzsaLILIBu6"
      },
      "source": [
        "## Replay Memory"
      ]
    },
    {
      "cell_type": "code",
      "execution_count": null,
      "metadata": {
        "id": "ul_Thz31IBu7"
      },
      "outputs": [],
      "source": [
        "Transition = namedtuple(\"Transition\", (\"state\", \"action\", \"next_state\", \"reward\"))\n",
        "\n",
        "\n",
        "class ReplayMemory(object):\n",
        "\n",
        "    def __init__(self, capacity):\n",
        "        self.memory = deque([], maxlen=capacity)\n",
        "\n",
        "    def push(self, *args):\n",
        "        \"\"\"Save a transition\"\"\"\n",
        "        self.memory.append(Transition(*args))\n",
        "\n",
        "    def sample(self, batch_size):\n",
        "        return random.sample(self.memory, batch_size)\n",
        "\n",
        "    def __len__(self):\n",
        "        return len(self.memory)"
      ]
    },
    {
      "cell_type": "code",
      "execution_count": null,
      "metadata": {
        "id": "mkFw1Bz7IBu7"
      },
      "outputs": [],
      "source": [
        "# BATCH_SIZE is the number of transitions sampled from the replay buffer\n",
        "# GAMMA is the discount factor as mentioned in the previous section\n",
        "# EPS_START is the starting value of epsilon\n",
        "# EPS_END is the final value of epsilon\n",
        "# EPS_DECAY controls the rate of exponential decay of epsilon, higher means a slower decay\n",
        "# TAU is the update rate of the target network\n",
        "# LR is the learning rate of the ``AdamW`` optimizer\n",
        "\n",
        "\n",
        "BATCH_SIZE = 128\n",
        "GAMMA = 0.99\n",
        "EPS_START = 0.9\n",
        "EPS_END = 0.05\n",
        "EPS_DECAY = 1000\n",
        "TAU = 0.005\n",
        "LR = 1e-4\n",
        "\n",
        "# Get number of actions from gym action space\n",
        "n_actions = env.action_space.n\n",
        "# Get the number of state observations\n",
        "state, info = env.reset()\n",
        "n_observations = len(state)\n",
        "\n",
        "policy_net = DQN(in_channels=4, n_actions=n_actions).to(device)\n",
        "target_net = DQN(in_channels=4, n_actions=n_actions).to(device)\n",
        "\n",
        "target_net.load_state_dict(policy_net.state_dict())\n",
        "target_net.eval()\n",
        "\n",
        "\n",
        "optimizer = optim.AdamW(policy_net.parameters(), lr=LR, amsgrad=True)\n",
        "memory = ReplayMemory(50000)"
      ]
    },
    {
      "cell_type": "markdown",
      "metadata": {
        "id": "EtQlI3O0IBu7"
      },
      "source": [
        "## Epsilon Greey"
      ]
    },
    {
      "cell_type": "code",
      "execution_count": null,
      "metadata": {
        "id": "VPUtmHeUIBu7"
      },
      "outputs": [],
      "source": [
        "steps_done = 0\n",
        "\n",
        "\n",
        "def select_action(state: torch.Tensor) -> torch.Tensor:\n",
        "    \"\"\"\n",
        "    epsilon greedy\n",
        "    - epsilon: choose random action\n",
        "    - 1-epsilon: argmax Q(a,s)\n",
        "\n",
        "    Input: state shape (1,4,84,84)\n",
        "\n",
        "    Output: action shape (1,1)\n",
        "    \"\"\"\n",
        "    global eps_threshold\n",
        "    global steps_done\n",
        "    sample = random.random()\n",
        "    eps_threshold = EPS_END + (EPS_START - EPS_END) * math.exp(\n",
        "        -1.0 * steps_done / EPS_DECAY\n",
        "    )\n",
        "    steps_done += 1\n",
        "    if sample > eps_threshold:\n",
        "        with torch.no_grad():\n",
        "            return policy_net(state).max(1)[1].view(1, 1)\n",
        "    else:\n",
        "        return torch.tensor([[env.action_space.sample()]]).to(device)\n",
        "\n",
        "\n",
        "# def select_action(state):\n",
        "#     global steps_done\n",
        "#     sample = random.random()\n",
        "#     eps_threshold = EPS_END + (EPS_START - EPS_END) * math.exp(\n",
        "#         -1.0 * steps_done / EPS_DECAY\n",
        "#     )\n",
        "#     steps_done += 1\n",
        "#     if sample > eps_threshold:\n",
        "#         with torch.no_grad():\n",
        "#             # t.max(1) will return the largest column value of each row.\n",
        "#             # second column on max result is index of where max element was\n",
        "#             # found, so we pick action with the larger expected reward.\n",
        "#             return policy_net(state).max(1).indices.view(1, 1)\n",
        "#     else:\n",
        "#         return torch.tensor(\n",
        "#             [[env.action_space.sample()]], device=device, dtype=torch.long\n",
        "#         )"
      ]
    },
    {
      "cell_type": "markdown",
      "metadata": {
        "id": "-d8naoGnIBu7"
      },
      "source": [
        "## Plot Duration"
      ]
    },
    {
      "cell_type": "code",
      "execution_count": null,
      "metadata": {
        "id": "XMvV-nO7IBu7"
      },
      "outputs": [],
      "source": [
        "episode_durations = []\n",
        "\n",
        "\n",
        "def plot_durations(show_result=False):\n",
        "    plt.figure(1)\n",
        "    durations_t = torch.tensor(episode_durations, dtype=torch.float)\n",
        "    if show_result:\n",
        "        plt.title(\"Result\")\n",
        "    else:\n",
        "        plt.clf()\n",
        "        plt.title(\"Training...\")\n",
        "    plt.xlabel(\"Episode\")\n",
        "    plt.ylabel(\"Duration\")\n",
        "    plt.plot(durations_t.numpy())\n",
        "    # Take 100 episode averages and plot them too\n",
        "    if len(durations_t) >= 100:\n",
        "        means = durations_t.unfold(0, 100, 1).mean(1).view(-1)\n",
        "        means = torch.cat((torch.zeros(99), means))\n",
        "        plt.plot(means.numpy())\n",
        "\n",
        "    plt.pause(0.001)  # pause a bit so that plots are updated\n",
        "    if is_ipython:\n",
        "        if not show_result:\n",
        "            display.display(plt.gcf())\n",
        "            display.clear_output(wait=True)\n",
        "        else:\n",
        "            display.display(plt.gcf())"
      ]
    },
    {
      "cell_type": "markdown",
      "metadata": {
        "id": "rpSJC3wwIBu7"
      },
      "source": [
        "## Optimize"
      ]
    },
    {
      "cell_type": "code",
      "execution_count": null,
      "metadata": {
        "id": "0rQOPoViIBu7"
      },
      "outputs": [],
      "source": [
        "def optimize_model():\n",
        "    if len(memory) < BATCH_SIZE:\n",
        "        return\n",
        "    transitions = memory.sample(BATCH_SIZE)\n",
        "    # Transpose the batch (see https://stackoverflow.com/a/19343/3343043 for\n",
        "    # detailed explanation). This converts batch-array of Transitions\n",
        "    # to Transition of batch-arrays.\n",
        "    batch = Transition(*zip(*transitions))\n",
        "\n",
        "    # Compute a mask of non-final states and concatenate the batch elements\n",
        "    # (a final state would've been the one after which simulation ended)\n",
        "    non_final_mask = torch.tensor(\n",
        "        tuple(map(lambda s: s is not None, batch.next_state)),\n",
        "        device=device,\n",
        "        dtype=torch.bool,\n",
        "    )\n",
        "    non_final_next_states = torch.cat([s for s in batch.next_state if s is not None])\n",
        "    state_batch = torch.cat(batch.state)\n",
        "    action_batch = torch.cat(batch.action)\n",
        "    reward_batch = torch.cat(batch.reward)\n",
        "\n",
        "    # Compute Q(s_t, a) - the model computes Q(s_t), then we select the\n",
        "    # columns of actions taken. These are the actions which would've been taken\n",
        "    # for each batch state according to policy_net\n",
        "    state_action_values = policy_net(state_batch).gather(1, action_batch)\n",
        "\n",
        "    # Compute V(s_{t+1}) for all next states.\n",
        "    # Expected values of actions for non_final_next_states are computed based\n",
        "    # on the \"older\" target_net; selecting their best reward with max(1).values\n",
        "    # This is merged based on the mask, such that we'll have either the expected\n",
        "    # state value or 0 in case the state was final.\n",
        "    next_state_values = torch.zeros(BATCH_SIZE, device=device)\n",
        "    with torch.no_grad():\n",
        "        next_state_values[non_final_mask] = (\n",
        "            target_net(non_final_next_states).max(1).values\n",
        "        )\n",
        "    # Compute the expected Q values\n",
        "    expected_state_action_values = (next_state_values * GAMMA) + reward_batch\n",
        "\n",
        "    # Compute Huber loss\n",
        "    criterion = nn.SmoothL1Loss()\n",
        "    loss = criterion(state_action_values, expected_state_action_values.unsqueeze(1))\n",
        "\n",
        "    # Optimize the model\n",
        "    optimizer.zero_grad()\n",
        "    loss.backward()\n",
        "    # In-place gradient clipping\n",
        "    torch.nn.utils.clip_grad_value_(policy_net.parameters(), 100)\n",
        "    optimizer.step()"
      ]
    },
    {
      "cell_type": "markdown",
      "metadata": {
        "id": "3J_oNp5oIBu8"
      },
      "source": [
        "## Train loop"
      ]
    },
    {
      "cell_type": "code",
      "execution_count": null,
      "metadata": {
        "id": "NdB8dZYvIBu8",
        "outputId": "9dc9ac70-372a-40f9-b299-9ed7df73c4f9"
      },
      "outputs": [
        {
          "ename": "NameError",
          "evalue": "name 'torch' is not defined",
          "output_type": "error",
          "traceback": [
            "\u001b[0;31m---------------------------------------------------------------------------\u001b[0m",
            "\u001b[0;31mNameError\u001b[0m                                 Traceback (most recent call last)",
            "Cell \u001b[0;32mIn[1], line 1\u001b[0m\n\u001b[0;32m----> 1\u001b[0m \u001b[38;5;28;01mif\u001b[39;00m \u001b[43mtorch\u001b[49m\u001b[38;5;241m.\u001b[39mcuda\u001b[38;5;241m.\u001b[39mis_available() \u001b[38;5;129;01mor\u001b[39;00m torch\u001b[38;5;241m.\u001b[39mbackends\u001b[38;5;241m.\u001b[39mmps\u001b[38;5;241m.\u001b[39mis_available():\n\u001b[1;32m      2\u001b[0m     num_episodes \u001b[38;5;241m=\u001b[39m \u001b[38;5;241m600\u001b[39m\n\u001b[1;32m      3\u001b[0m \u001b[38;5;28;01melse\u001b[39;00m:\n",
            "\u001b[0;31mNameError\u001b[0m: name 'torch' is not defined"
          ]
        }
      ],
      "source": [
        "if torch.cuda.is_available() or torch.backends.mps.is_available():\n",
        "    num_episodes = 600\n",
        "else:\n",
        "    num_episodes = 50\n",
        "\n",
        "for i_episode in range(num_episodes):\n",
        "    # Initialize the environment and get its state\n",
        "    state, info = env.reset()\n",
        "\n",
        "    state = torch.from_numpy(state).to(device)  # (84,84)\n",
        "    # stack four frames together, hoping to learn temporal info\n",
        "    state = torch.stack((state, state, state, state)).unsqueeze(0)  # (1,4,84,84)\n",
        "\n",
        "    for t in count():\n",
        "        action = select_action(state)\n",
        "        obs, reward, terminated, truncated, _ = env.step(action.item())\n",
        "        reward = torch.tensor([reward], device=device)\n",
        "        done = terminated or truncated\n",
        "\n",
        "        if terminated:\n",
        "            next_state = None\n",
        "        else:\n",
        "            next_state = torch.from_numpy(obs).to(device)  # (84,84)\n",
        "            next_state = torch.stack(\n",
        "                (next_state, obs[0][0], obs[0][1], obs[0][2])\n",
        "            ).unsqueeze(\n",
        "                0\n",
        "            )  # (1,4,84,84)\n",
        "            # next_state = torch.tensor(\n",
        "            #     observation, dtype=torch.float32, device=device\n",
        "            # ).unsqueeze(0)\n",
        "\n",
        "        # Store the transition in memory\n",
        "        memory.push(state, action, next_state, reward)\n",
        "\n",
        "        # Move to the next state\n",
        "        state = next_state\n",
        "\n",
        "        # Perform one step of the optimization (on the policy network)\n",
        "        optimize_model()\n",
        "\n",
        "        # Soft update of the target network's weights\n",
        "        # θ′ ← τ θ + (1 −τ )θ′\n",
        "        target_net_state_dict = target_net.state_dict()\n",
        "        policy_net_state_dict = policy_net.state_dict()\n",
        "        for key in policy_net_state_dict:\n",
        "            target_net_state_dict[key] = policy_net_state_dict[\n",
        "                key\n",
        "            ] * TAU + target_net_state_dict[key] * (1 - TAU)\n",
        "        target_net.load_state_dict(target_net_state_dict)\n",
        "\n",
        "        if done:\n",
        "            episode_durations.append(t + 1)\n",
        "            plot_durations()\n",
        "            break\n",
        "\n",
        "print(\"Complete\")\n",
        "plot_durations(show_result=True)\n",
        "plt.ioff()\n",
        "plt.show()"
      ]
    },
    {
      "cell_type": "markdown",
      "metadata": {
        "id": "6i3wn1sFIBu8"
      },
      "source": [
        "## Test agent"
      ]
    },
    {
      "cell_type": "code",
      "execution_count": null,
      "metadata": {
        "id": "e5VCDFY-IBu8",
        "outputId": "92cb288e-7520-4e3c-995e-19baec8ed716"
      },
      "outputs": [
        {
          "name": "stdout",
          "output_type": "stream",
          "text": [
            "Episode 1: 500.0\n"
          ]
        },
        {
          "ename": "KeyboardInterrupt",
          "evalue": "",
          "output_type": "error",
          "traceback": [
            "\u001b[0;31m---------------------------------------------------------------------------\u001b[0m",
            "\u001b[0;31mKeyboardInterrupt\u001b[0m                         Traceback (most recent call last)",
            "Cell \u001b[0;32mIn[22], line 23\u001b[0m\n\u001b[1;32m     19\u001b[0m     action \u001b[38;5;241m=\u001b[39m policy_net(observation)\u001b[38;5;241m.\u001b[39mmax(\u001b[38;5;241m1\u001b[39m)\u001b[38;5;241m.\u001b[39mindices\u001b[38;5;241m.\u001b[39mview(\u001b[38;5;241m1\u001b[39m, \u001b[38;5;241m1\u001b[39m)\n\u001b[1;32m     21\u001b[0m \u001b[38;5;66;03m# step (transition) through the environment with the action\u001b[39;00m\n\u001b[1;32m     22\u001b[0m \u001b[38;5;66;03m# receiving the next observation, reward and if the episode has terminated or truncated\u001b[39;00m\n\u001b[0;32m---> 23\u001b[0m observation, reward, terminated, truncated, info \u001b[38;5;241m=\u001b[39m \u001b[43menv\u001b[49m\u001b[38;5;241;43m.\u001b[39;49m\u001b[43mstep\u001b[49m\u001b[43m(\u001b[49m\u001b[43maction\u001b[49m\u001b[38;5;241;43m.\u001b[39;49m\u001b[43mitem\u001b[49m\u001b[43m(\u001b[49m\u001b[43m)\u001b[49m\u001b[43m)\u001b[49m\n\u001b[1;32m     25\u001b[0m score \u001b[38;5;241m+\u001b[39m\u001b[38;5;241m=\u001b[39m reward\n\u001b[1;32m     26\u001b[0m \u001b[38;5;66;03m# set if done\u001b[39;00m\n",
            "File \u001b[0;32m~/Git/pytorch-demo/.venv/lib/python3.10/site-packages/gymnasium/wrappers/common.py:125\u001b[0m, in \u001b[0;36mTimeLimit.step\u001b[0;34m(self, action)\u001b[0m\n\u001b[1;32m    112\u001b[0m \u001b[38;5;28;01mdef\u001b[39;00m \u001b[38;5;21mstep\u001b[39m(\n\u001b[1;32m    113\u001b[0m     \u001b[38;5;28mself\u001b[39m, action: ActType\n\u001b[1;32m    114\u001b[0m ) \u001b[38;5;241m-\u001b[39m\u001b[38;5;241m>\u001b[39m \u001b[38;5;28mtuple\u001b[39m[ObsType, SupportsFloat, \u001b[38;5;28mbool\u001b[39m, \u001b[38;5;28mbool\u001b[39m, \u001b[38;5;28mdict\u001b[39m[\u001b[38;5;28mstr\u001b[39m, Any]]:\n\u001b[1;32m    115\u001b[0m \u001b[38;5;250m    \u001b[39m\u001b[38;5;124;03m\"\"\"Steps through the environment and if the number of steps elapsed exceeds ``max_episode_steps`` then truncate.\u001b[39;00m\n\u001b[1;32m    116\u001b[0m \n\u001b[1;32m    117\u001b[0m \u001b[38;5;124;03m    Args:\u001b[39;00m\n\u001b[0;32m   (...)\u001b[0m\n\u001b[1;32m    123\u001b[0m \n\u001b[1;32m    124\u001b[0m \u001b[38;5;124;03m    \"\"\"\u001b[39;00m\n\u001b[0;32m--> 125\u001b[0m     observation, reward, terminated, truncated, info \u001b[38;5;241m=\u001b[39m \u001b[38;5;28;43mself\u001b[39;49m\u001b[38;5;241;43m.\u001b[39;49m\u001b[43menv\u001b[49m\u001b[38;5;241;43m.\u001b[39;49m\u001b[43mstep\u001b[49m\u001b[43m(\u001b[49m\u001b[43maction\u001b[49m\u001b[43m)\u001b[49m\n\u001b[1;32m    126\u001b[0m     \u001b[38;5;28mself\u001b[39m\u001b[38;5;241m.\u001b[39m_elapsed_steps \u001b[38;5;241m+\u001b[39m\u001b[38;5;241m=\u001b[39m \u001b[38;5;241m1\u001b[39m\n\u001b[1;32m    128\u001b[0m     \u001b[38;5;28;01mif\u001b[39;00m \u001b[38;5;28mself\u001b[39m\u001b[38;5;241m.\u001b[39m_elapsed_steps \u001b[38;5;241m>\u001b[39m\u001b[38;5;241m=\u001b[39m \u001b[38;5;28mself\u001b[39m\u001b[38;5;241m.\u001b[39m_max_episode_steps:\n",
            "File \u001b[0;32m~/Git/pytorch-demo/.venv/lib/python3.10/site-packages/gymnasium/wrappers/common.py:393\u001b[0m, in \u001b[0;36mOrderEnforcing.step\u001b[0;34m(self, action)\u001b[0m\n\u001b[1;32m    391\u001b[0m \u001b[38;5;28;01mif\u001b[39;00m \u001b[38;5;129;01mnot\u001b[39;00m \u001b[38;5;28mself\u001b[39m\u001b[38;5;241m.\u001b[39m_has_reset:\n\u001b[1;32m    392\u001b[0m     \u001b[38;5;28;01mraise\u001b[39;00m ResetNeeded(\u001b[38;5;124m\"\u001b[39m\u001b[38;5;124mCannot call env.step() before calling env.reset()\u001b[39m\u001b[38;5;124m\"\u001b[39m)\n\u001b[0;32m--> 393\u001b[0m \u001b[38;5;28;01mreturn\u001b[39;00m \u001b[38;5;28;43msuper\u001b[39;49m\u001b[43m(\u001b[49m\u001b[43m)\u001b[49m\u001b[38;5;241;43m.\u001b[39;49m\u001b[43mstep\u001b[49m\u001b[43m(\u001b[49m\u001b[43maction\u001b[49m\u001b[43m)\u001b[49m\n",
            "File \u001b[0;32m~/Git/pytorch-demo/.venv/lib/python3.10/site-packages/gymnasium/core.py:322\u001b[0m, in \u001b[0;36mWrapper.step\u001b[0;34m(self, action)\u001b[0m\n\u001b[1;32m    318\u001b[0m \u001b[38;5;28;01mdef\u001b[39;00m \u001b[38;5;21mstep\u001b[39m(\n\u001b[1;32m    319\u001b[0m     \u001b[38;5;28mself\u001b[39m, action: WrapperActType\n\u001b[1;32m    320\u001b[0m ) \u001b[38;5;241m-\u001b[39m\u001b[38;5;241m>\u001b[39m \u001b[38;5;28mtuple\u001b[39m[WrapperObsType, SupportsFloat, \u001b[38;5;28mbool\u001b[39m, \u001b[38;5;28mbool\u001b[39m, \u001b[38;5;28mdict\u001b[39m[\u001b[38;5;28mstr\u001b[39m, Any]]:\n\u001b[1;32m    321\u001b[0m \u001b[38;5;250m    \u001b[39m\u001b[38;5;124;03m\"\"\"Uses the :meth:`step` of the :attr:`env` that can be overwritten to change the returned data.\"\"\"\u001b[39;00m\n\u001b[0;32m--> 322\u001b[0m     \u001b[38;5;28;01mreturn\u001b[39;00m \u001b[38;5;28;43mself\u001b[39;49m\u001b[38;5;241;43m.\u001b[39;49m\u001b[43menv\u001b[49m\u001b[38;5;241;43m.\u001b[39;49m\u001b[43mstep\u001b[49m\u001b[43m(\u001b[49m\u001b[43maction\u001b[49m\u001b[43m)\u001b[49m\n",
            "File \u001b[0;32m~/Git/pytorch-demo/.venv/lib/python3.10/site-packages/gymnasium/wrappers/common.py:285\u001b[0m, in \u001b[0;36mPassiveEnvChecker.step\u001b[0;34m(self, action)\u001b[0m\n\u001b[1;32m    283\u001b[0m     \u001b[38;5;28;01mreturn\u001b[39;00m env_step_passive_checker(\u001b[38;5;28mself\u001b[39m\u001b[38;5;241m.\u001b[39menv, action)\n\u001b[1;32m    284\u001b[0m \u001b[38;5;28;01melse\u001b[39;00m:\n\u001b[0;32m--> 285\u001b[0m     \u001b[38;5;28;01mreturn\u001b[39;00m \u001b[38;5;28;43mself\u001b[39;49m\u001b[38;5;241;43m.\u001b[39;49m\u001b[43menv\u001b[49m\u001b[38;5;241;43m.\u001b[39;49m\u001b[43mstep\u001b[49m\u001b[43m(\u001b[49m\u001b[43maction\u001b[49m\u001b[43m)\u001b[49m\n",
            "File \u001b[0;32m~/Git/pytorch-demo/.venv/lib/python3.10/site-packages/gymnasium/envs/classic_control/cartpole.py:223\u001b[0m, in \u001b[0;36mCartPoleEnv.step\u001b[0;34m(self, action)\u001b[0m\n\u001b[1;32m    220\u001b[0m     reward \u001b[38;5;241m=\u001b[39m \u001b[38;5;241m-\u001b[39m\u001b[38;5;241m1.0\u001b[39m \u001b[38;5;28;01mif\u001b[39;00m \u001b[38;5;28mself\u001b[39m\u001b[38;5;241m.\u001b[39m_sutton_barto_reward \u001b[38;5;28;01melse\u001b[39;00m \u001b[38;5;241m0.0\u001b[39m\n\u001b[1;32m    222\u001b[0m \u001b[38;5;28;01mif\u001b[39;00m \u001b[38;5;28mself\u001b[39m\u001b[38;5;241m.\u001b[39mrender_mode \u001b[38;5;241m==\u001b[39m \u001b[38;5;124m\"\u001b[39m\u001b[38;5;124mhuman\u001b[39m\u001b[38;5;124m\"\u001b[39m:\n\u001b[0;32m--> 223\u001b[0m     \u001b[38;5;28;43mself\u001b[39;49m\u001b[38;5;241;43m.\u001b[39;49m\u001b[43mrender\u001b[49m\u001b[43m(\u001b[49m\u001b[43m)\u001b[49m\n\u001b[1;32m    225\u001b[0m \u001b[38;5;66;03m# truncation=False as the time limit is handled by the `TimeLimit` wrapper added during `make`\u001b[39;00m\n\u001b[1;32m    226\u001b[0m \u001b[38;5;28;01mreturn\u001b[39;00m np\u001b[38;5;241m.\u001b[39marray(\u001b[38;5;28mself\u001b[39m\u001b[38;5;241m.\u001b[39mstate, dtype\u001b[38;5;241m=\u001b[39mnp\u001b[38;5;241m.\u001b[39mfloat32), reward, terminated, \u001b[38;5;28;01mFalse\u001b[39;00m, {}\n",
            "File \u001b[0;32m~/Git/pytorch-demo/.venv/lib/python3.10/site-packages/gymnasium/envs/classic_control/cartpole.py:337\u001b[0m, in \u001b[0;36mCartPoleEnv.render\u001b[0;34m(self)\u001b[0m\n\u001b[1;32m    335\u001b[0m \u001b[38;5;28;01mif\u001b[39;00m \u001b[38;5;28mself\u001b[39m\u001b[38;5;241m.\u001b[39mrender_mode \u001b[38;5;241m==\u001b[39m \u001b[38;5;124m\"\u001b[39m\u001b[38;5;124mhuman\u001b[39m\u001b[38;5;124m\"\u001b[39m:\n\u001b[1;32m    336\u001b[0m     pygame\u001b[38;5;241m.\u001b[39mevent\u001b[38;5;241m.\u001b[39mpump()\n\u001b[0;32m--> 337\u001b[0m     \u001b[38;5;28;43mself\u001b[39;49m\u001b[38;5;241;43m.\u001b[39;49m\u001b[43mclock\u001b[49m\u001b[38;5;241;43m.\u001b[39;49m\u001b[43mtick\u001b[49m\u001b[43m(\u001b[49m\u001b[38;5;28;43mself\u001b[39;49m\u001b[38;5;241;43m.\u001b[39;49m\u001b[43mmetadata\u001b[49m\u001b[43m[\u001b[49m\u001b[38;5;124;43m\"\u001b[39;49m\u001b[38;5;124;43mrender_fps\u001b[39;49m\u001b[38;5;124;43m\"\u001b[39;49m\u001b[43m]\u001b[49m\u001b[43m)\u001b[49m\n\u001b[1;32m    338\u001b[0m     pygame\u001b[38;5;241m.\u001b[39mdisplay\u001b[38;5;241m.\u001b[39mflip()\n\u001b[1;32m    340\u001b[0m \u001b[38;5;28;01melif\u001b[39;00m \u001b[38;5;28mself\u001b[39m\u001b[38;5;241m.\u001b[39mrender_mode \u001b[38;5;241m==\u001b[39m \u001b[38;5;124m\"\u001b[39m\u001b[38;5;124mrgb_array\u001b[39m\u001b[38;5;124m\"\u001b[39m:\n",
            "\u001b[0;31mKeyboardInterrupt\u001b[0m: "
          ]
        }
      ],
      "source": [
        "import gymnasium as gym\n",
        "\n",
        "# Initialise the environment\n",
        "env = gym.make(\"CartPole-v1\", render_mode=\"human\")\n",
        "\n",
        "# Run 5 episodes\n",
        "num_episodes = 5\n",
        "\n",
        "for i in range(num_episodes):\n",
        "    observation, info = env.reset(seed=42)\n",
        "    done = False\n",
        "    score = 0\n",
        "\n",
        "    while not done:\n",
        "        with torch.no_grad():\n",
        "            observation = torch.tensor(\n",
        "                observation, dtype=torch.float32, device=device\n",
        "            ).unsqueeze(0)\n",
        "            action = policy_net(observation).max(1).indices.view(1, 1)\n",
        "\n",
        "        # step (transition) through the environment with the action\n",
        "        # receiving the next observation, reward and if the episode has terminated or truncated\n",
        "        observation, reward, terminated, truncated, info = env.step(action.item())\n",
        "\n",
        "        # Collect rewards\n",
        "        score += reward\n",
        "\n",
        "        # set if done\n",
        "        done = terminated or truncated\n",
        "\n",
        "    print(f\"Episode {i+1}: {score}\")\n",
        "\n",
        "env.close()"
      ]
    }
  ],
  "metadata": {
    "kernelspec": {
      "display_name": "Python 3",
      "name": "python3"
    },
    "language_info": {
      "codemirror_mode": {
        "name": "ipython",
        "version": 3
      },
      "file_extension": ".py",
      "mimetype": "text/x-python",
      "name": "python",
      "nbconvert_exporter": "python",
      "pygments_lexer": "ipython3",
      "version": "3.10.12"
    },
    "colab": {
      "provenance": [],
      "machine_shape": "hm",
      "gpuType": "A100",
      "include_colab_link": true
    },
    "accelerator": "GPU"
  },
  "nbformat": 4,
  "nbformat_minor": 0
}